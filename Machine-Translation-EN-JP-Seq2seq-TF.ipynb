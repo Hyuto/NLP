{
 "cells": [
  {
   "cell_type": "markdown",
   "metadata": {
    "papermill": {
     "duration": 0.013095,
     "end_time": "2020-08-19T01:51:37.491803",
     "exception": false,
     "start_time": "2020-08-19T01:51:37.478708",
     "status": "completed"
    },
    "tags": []
   },
   "source": [
    "Hello guys, lately i've been studying about machine translation and give it a try. Most of code in this notebook is based on tensorflow tutorial on their website, you can find it [here](https://www.tensorflow.org/addons/tutorials/networks_seq2seq_nmt). \n",
    "# English - Japanese Machine Translation\n",
    "So in this notebook we're going to build English to Japanese machine translation, Japanese text contains lots of unique words because they have 3 type of it:\n",
    "1. Kanji\n",
    "1. Katakana\n",
    "1. Hiragana\n",
    "\n",
    "thats the insteristing part of it and so it'll be little complicated to process. So let's get started."
   ]
  },
  {
   "cell_type": "markdown",
   "metadata": {
    "papermill": {
     "duration": 0.011247,
     "end_time": "2020-08-19T01:51:37.516218",
     "exception": false,
     "start_time": "2020-08-19T01:51:37.504971",
     "status": "completed"
    },
    "tags": []
   },
   "source": [
    "# Table Of Content\n",
    "1. Load Dataset\n",
    "1. Text Preprocessing\n",
    "    1. English missplell handling\n",
    "    1. Segmentating Japanese words\n",
    "    1. Add BOS and EOS to train sentences\n",
    "1. Word Tokenizing\n",
    "    1. Word Cloud\n",
    "1. Build & Train Model\n",
    "1. Scoring Bleu\n",
    "1. Test with Some Raw Input"
   ]
  },
  {
   "cell_type": "markdown",
   "metadata": {
    "papermill": {
     "duration": 0.011269,
     "end_time": "2020-08-19T01:51:37.539079",
     "exception": false,
     "start_time": "2020-08-19T01:51:37.527810",
     "status": "completed"
    },
    "tags": []
   },
   "source": [
    "## Install some tools\n",
    "1. Sacreblue for calculate BLEU score\n",
    "1. Googletrans => Google Translate for testing some sentences later\n",
    "\n",
    "Note : You can use NLTK for calculating BLEU score [documentation](https://www.nltk.org/_modules/nltk/translate/bleu_score.html)"
   ]
  },
  {
   "cell_type": "code",
   "execution_count": 1,
   "metadata": {
    "_kg_hide-output": true,
    "execution": {
     "iopub.execute_input": "2020-08-19T01:51:37.570215Z",
     "iopub.status.busy": "2020-08-19T01:51:37.569426Z",
     "iopub.status.idle": "2020-08-19T01:52:25.228993Z",
     "shell.execute_reply": "2020-08-19T01:52:25.228349Z"
    },
    "papermill": {
     "duration": 47.678692,
     "end_time": "2020-08-19T01:52:25.229124",
     "exception": false,
     "start_time": "2020-08-19T01:51:37.550432",
     "status": "completed"
    },
    "tags": []
   },
   "outputs": [
    {
     "name": "stdout",
     "output_type": "stream",
     "text": [
      "\u001b[33mWARNING: You are using pip version 20.2.1; however, version 20.2.2 is available.\r\n",
      "You should consider upgrading via the '/opt/conda/bin/python3.7 -m pip install --upgrade pip' command.\u001b[0m\r\n",
      "\u001b[33mWARNING: You are using pip version 20.2.1; however, version 20.2.2 is available.\r\n",
      "You should consider upgrading via the '/opt/conda/bin/python3.7 -m pip install --upgrade pip' command.\u001b[0m\r\n",
      "\u001b[33mWARNING: You are using pip version 20.2.1; however, version 20.2.2 is available.\r\n",
      "You should consider upgrading via the '/opt/conda/bin/python3.7 -m pip install --upgrade pip' command.\u001b[0m\r\n"
     ]
    }
   ],
   "source": [
    "!pip -q install sacrebleu\n",
    "!pip -q install googletrans\n",
    "!pip -q install tensorflow-addons --upgrade"
   ]
  },
  {
   "cell_type": "code",
   "execution_count": 2,
   "metadata": {
    "execution": {
     "iopub.execute_input": "2020-08-19T01:52:25.264367Z",
     "iopub.status.busy": "2020-08-19T01:52:25.263528Z",
     "iopub.status.idle": "2020-08-19T01:52:31.232957Z",
     "shell.execute_reply": "2020-08-19T01:52:31.231860Z"
    },
    "papermill": {
     "duration": 5.991624,
     "end_time": "2020-08-19T01:52:31.233084",
     "exception": false,
     "start_time": "2020-08-19T01:52:25.241460",
     "status": "completed"
    },
    "tags": []
   },
   "outputs": [],
   "source": [
    "import random, re, string, itertools, timeit, sacrebleu\n",
    "import numpy as np\n",
    "import pandas as pd\n",
    "import matplotlib.pyplot as plt\n",
    "import seaborn as sns\n",
    "from tqdm.notebook import tqdm\n",
    "from IPython.display import display, clear_output\n",
    "from sklearn.model_selection import train_test_split\n",
    "\n",
    "# Tensorflow & Keras\n",
    "import tensorflow as tf\n",
    "import tensorflow_addons as tfa\n",
    "import tensorflow.keras.backend as K\n",
    "from tensorflow.keras.layers import Input, Dense, LSTM, LSTMCell\n",
    "from tensorflow.keras.layers import Embedding, Bidirectional\n",
    "from tensorflow.keras.models import Model\n",
    "from tensorflow.keras.preprocessing.text import Tokenizer\n",
    "from tensorflow.keras.preprocessing.sequence import pad_sequences\n",
    "from tensorflow.keras.losses import SparseCategoricalCrossentropy\n",
    "from tensorflow.keras.optimizers import Adam\n",
    "\n",
    "# Japanese Word Tokenizer\n",
    "from janome.tokenizer import Tokenizer as janome_tokenizer\n",
    "\n",
    "plt.style.use('seaborn-pastel')"
   ]
  },
  {
   "cell_type": "markdown",
   "metadata": {
    "papermill": {
     "duration": 0.011556,
     "end_time": "2020-08-19T01:52:31.256820",
     "exception": false,
     "start_time": "2020-08-19T01:52:31.245264",
     "status": "completed"
    },
    "tags": []
   },
   "source": [
    "# Dataset\n",
    "Here we use 55463 en-jp corpus from multiple source\n",
    "\n",
    "1. ManyThings.org Bilingual Sentence Pairs<br>\n",
    "-> Official Site : [Here](http://www.manythings.org/bilingual/)<-"
   ]
  },
  {
   "cell_type": "code",
   "execution_count": 3,
   "metadata": {
    "_cell_guid": "b1076dfc-b9ad-4769-8c92-a6c4dae69d19",
    "_kg_hide-output": true,
    "_uuid": "8f2839f25d086af736a60e9eeb907d3b93b6e0e5",
    "execution": {
     "iopub.execute_input": "2020-08-19T01:52:31.286550Z",
     "iopub.status.busy": "2020-08-19T01:52:31.285772Z",
     "iopub.status.idle": "2020-08-19T01:52:33.149030Z",
     "shell.execute_reply": "2020-08-19T01:52:33.148405Z"
    },
    "papermill": {
     "duration": 1.880523,
     "end_time": "2020-08-19T01:52:33.149144",
     "exception": false,
     "start_time": "2020-08-19T01:52:31.268621",
     "status": "completed"
    },
    "tags": []
   },
   "outputs": [
    {
     "name": "stdout",
     "output_type": "stream",
     "text": [
      "--2020-08-19 01:52:31--  http://www.manythings.org/anki/jpn-eng.zip\r\n",
      "Resolving www.manythings.org (www.manythings.org)... 104.24.109.196, 104.24.108.196, 172.67.173.198, ...\r\n",
      "Connecting to www.manythings.org (www.manythings.org)|104.24.109.196|:80... connected.\r\n",
      "HTTP request sent, awaiting response... 200 OK\r\n",
      "Length: 2303148 (2.2M) [application/zip]\r\n",
      "Saving to: ‘jpn-eng.zip’\r\n",
      "\r\n",
      "jpn-eng.zip         100%[===================>]   2.20M  9.70MB/s    in 0.2s    \r\n",
      "\r\n",
      "2020-08-19 01:52:32 (9.70 MB/s) - ‘jpn-eng.zip’ saved [2303148/2303148]\r\n",
      "\r\n",
      "Archive:  jpn-eng.zip\r\n",
      "  inflating: jpn.txt                 \r\n",
      "  inflating: _about.txt              \r\n"
     ]
    }
   ],
   "source": [
    "# Download Data & Unzip Data\n",
    "!wget http://www.manythings.org/anki/jpn-eng.zip\n",
    "!unzip jpn-eng.zip"
   ]
  },
  {
   "cell_type": "markdown",
   "metadata": {
    "papermill": {
     "duration": 0.01205,
     "end_time": "2020-08-19T01:52:33.174730",
     "exception": false,
     "start_time": "2020-08-19T01:52:33.162680",
     "status": "completed"
    },
    "tags": []
   },
   "source": [
    "Load data to memory."
   ]
  },
  {
   "cell_type": "code",
   "execution_count": 4,
   "metadata": {
    "execution": {
     "iopub.execute_input": "2020-08-19T01:52:33.250229Z",
     "iopub.status.busy": "2020-08-19T01:52:33.233123Z",
     "iopub.status.idle": "2020-08-19T01:52:33.469886Z",
     "shell.execute_reply": "2020-08-19T01:52:33.466280Z"
    },
    "papermill": {
     "duration": 0.282887,
     "end_time": "2020-08-19T01:52:33.470043",
     "exception": false,
     "start_time": "2020-08-19T01:52:33.187156",
     "status": "completed"
    },
    "tags": []
   },
   "outputs": [
    {
     "data": {
      "application/vnd.jupyter.widget-view+json": {
       "model_id": "f41fdd7cabe0410a92d856a2b6749fe7",
       "version_major": 2,
       "version_minor": 0
      },
      "text/plain": [
       "HBox(children=(FloatProgress(value=0.0, max=53594.0), HTML(value='')))"
      ]
     },
     "metadata": {},
     "output_type": "display_data"
    },
    {
     "name": "stdout",
     "output_type": "stream",
     "text": [
      "\n",
      "Loaded 53594 Sentences\n"
     ]
    }
   ],
   "source": [
    "data = []\n",
    "\n",
    "f1 = open('./jpn.txt', 'r')\n",
    "data += [x.rstrip().lower().split('\\t')[:2] for x in tqdm(f1.readlines())]\n",
    "f1.close()\n",
    "\n",
    "print(f'Loaded {len(data)} Sentences')"
   ]
  },
  {
   "cell_type": "markdown",
   "metadata": {
    "papermill": {
     "duration": 0.012437,
     "end_time": "2020-08-19T01:52:33.495475",
     "exception": false,
     "start_time": "2020-08-19T01:52:33.483038",
     "status": "completed"
    },
    "tags": []
   },
   "source": [
    "# Text Preprocessing\n",
    "### Handling misspell words & Clearing Punctuation\n",
    "we're gonna change the misspell words in english sentences and clearing punctuation from text.\n",
    "\n",
    "\"aren't my english bad?\" -> \"are not my english bad\""
   ]
  },
  {
   "cell_type": "code",
   "execution_count": 5,
   "metadata": {
    "execution": {
     "iopub.execute_input": "2020-08-19T01:52:33.538220Z",
     "iopub.status.busy": "2020-08-19T01:52:33.529189Z",
     "iopub.status.idle": "2020-08-19T01:52:33.541117Z",
     "shell.execute_reply": "2020-08-19T01:52:33.540620Z"
    },
    "papermill": {
     "duration": 0.033077,
     "end_time": "2020-08-19T01:52:33.541220",
     "exception": false,
     "start_time": "2020-08-19T01:52:33.508143",
     "status": "completed"
    },
    "tags": []
   },
   "outputs": [],
   "source": [
    "mispell_dict = {\n",
    "    \"aren't\" : \"are not\",\n",
    "    \"can't\" : \"cannot\",\n",
    "    \"couldn't\" : \"could not\",\n",
    "    \"didn't\" : \"did not\",\n",
    "    \"doesn't\" : \"does not\",\n",
    "    \"don't\" : \"do not\",\n",
    "    \"hadn't\" : \"had not\",\n",
    "    \"hasn't\" : \"has not\",\n",
    "    \"haven't\" : \"have not\",\n",
    "    \"he'd\" : \"he would\",\n",
    "    \"he'll\" : \"he will\",\n",
    "    \"he's\" : \"he is\",\n",
    "    \"i'd\" : \"i would\",\n",
    "    \"i'd\" : \"i had\",\n",
    "    \"i'll\" : \"i will\",\n",
    "    \"i'm\" : \"i am\",\n",
    "    \"isn't\" : \"is not\",\n",
    "    \"it's\" : \"it is\",\n",
    "    \"it'll\":\"it will\",\n",
    "    \"i've\" : \"i have\",\n",
    "    \"let's\" : \"let us\",\n",
    "    \"mightn't\" : \"might not\",\n",
    "    \"mustn't\" : \"must not\",\n",
    "    \"shan't\" : \"shall not\",\n",
    "    \"she'd\" : \"she would\",\n",
    "    \"she'll\" : \"she will\",\n",
    "    \"she's\" : \"she is\",\n",
    "    \"shouldn't\" : \"should not\",\n",
    "    \"that's\" : \"that is\",\n",
    "    \"there's\" : \"there is\",\n",
    "    \"they'd\" : \"they would\",\n",
    "    \"they'll\" : \"they will\",\n",
    "    \"they're\" : \"they are\",\n",
    "    \"they've\" : \"they have\",\n",
    "    \"we'd\" : \"we would\",\n",
    "    \"we're\" : \"we are\",\n",
    "    \"weren't\" : \"were not\",\n",
    "    \"we've\" : \"we have\",\n",
    "    \"what'll\" : \"what will\",\n",
    "    \"what're\" : \"what are\",\n",
    "    \"what's\" : \"what is\",\n",
    "    \"what've\" : \"what have\",\n",
    "    \"where's\" : \"where is\",\n",
    "    \"who'd\" : \"who would\",\n",
    "    \"who'll\" : \"who will\",\n",
    "    \"who're\" : \"who are\",\n",
    "    \"who's\" : \"who is\",\n",
    "    \"who've\" : \"who have\",\n",
    "    \"won't\" : \"will not\",\n",
    "    \"wouldn't\" : \"would not\",\n",
    "    \"you'd\" : \"you would\",\n",
    "    \"you'll\" : \"you will\",\n",
    "    \"you're\" : \"you are\",\n",
    "    \"you've\" : \"you have\",\n",
    "    \"'re\": \" are\",\n",
    "    \"wasn't\": \"was not\",\n",
    "    \"we'll\":\" will\",\n",
    "    \"didn't\": \"did not\",\n",
    "    \"tryin'\":\"trying\"\n",
    "}\n",
    "\n",
    "mispell_re = re.compile('(%s)' % '|'.join(mispell_dict.keys()))\n",
    "\n",
    "def preprocess(text) -> str:\n",
    "    def replace(match):\n",
    "        return mispell_dict[match.group(0)]\n",
    "    \n",
    "    text = mispell_re.sub(replace, text)\n",
    "    return text"
   ]
  },
  {
   "cell_type": "markdown",
   "metadata": {
    "papermill": {
     "duration": 0.012106,
     "end_time": "2020-08-19T01:52:33.565889",
     "exception": false,
     "start_time": "2020-08-19T01:52:33.553783",
     "status": "completed"
    },
    "tags": []
   },
   "source": [
    "Japanese words have their own punctuation like 【this】"
   ]
  },
  {
   "cell_type": "code",
   "execution_count": 6,
   "metadata": {
    "execution": {
     "iopub.execute_input": "2020-08-19T01:52:33.595977Z",
     "iopub.status.busy": "2020-08-19T01:52:33.595158Z",
     "iopub.status.idle": "2020-08-19T01:52:33.598022Z",
     "shell.execute_reply": "2020-08-19T01:52:33.597410Z"
    },
    "papermill": {
     "duration": 0.01953,
     "end_time": "2020-08-19T01:52:33.598129",
     "exception": false,
     "start_time": "2020-08-19T01:52:33.578599",
     "status": "completed"
    },
    "tags": []
   },
   "outputs": [],
   "source": [
    "# Adding Japanese Punctuation\n",
    "string.punctuation += '、。【】「」『』…・〽（）〜？！｡：､；･'\n",
    "\n",
    "CP = lambda x : x.translate(str.maketrans('', '', string.punctuation))"
   ]
  },
  {
   "cell_type": "code",
   "execution_count": 7,
   "metadata": {
    "execution": {
     "iopub.execute_input": "2020-08-19T01:52:33.635591Z",
     "iopub.status.busy": "2020-08-19T01:52:33.630332Z",
     "iopub.status.idle": "2020-08-19T01:52:34.407481Z",
     "shell.execute_reply": "2020-08-19T01:52:34.406947Z"
    },
    "papermill": {
     "duration": 0.796976,
     "end_time": "2020-08-19T01:52:34.407615",
     "exception": false,
     "start_time": "2020-08-19T01:52:33.610639",
     "status": "completed"
    },
    "tags": []
   },
   "outputs": [],
   "source": [
    "data = [x for x in data if len(x) == 2]\n",
    "\n",
    "eng_data = [CP(preprocess(x[0])) for x in data]\n",
    "jpn_data = [CP(x[1]) for x in data]"
   ]
  },
  {
   "cell_type": "markdown",
   "metadata": {
    "papermill": {
     "duration": 0.012707,
     "end_time": "2020-08-19T01:52:34.433574",
     "exception": false,
     "start_time": "2020-08-19T01:52:34.420867",
     "status": "completed"
    },
    "tags": []
   },
   "source": [
    "### Segmentating Japanese Sentences\n",
    "Unlike english sentence we can tokenize it by splitting words with space just like this,\n",
    "```\n",
    "'This is english or i think so'.split()\n",
    "\n",
    "Output:\n",
    "['This', 'is', 'english', 'or', 'i', 'think', 'so']\n",
    "```\n",
    "but in Japanese we can't do it that way. Here we gonna use Janome Tokennizer to segmentating Japanese sentence and adding space to it so Keras Tokenizer can handle it."
   ]
  },
  {
   "cell_type": "code",
   "execution_count": 8,
   "metadata": {
    "execution": {
     "iopub.execute_input": "2020-08-19T01:52:34.462894Z",
     "iopub.status.busy": "2020-08-19T01:52:34.462242Z",
     "iopub.status.idle": "2020-08-19T01:52:36.244265Z",
     "shell.execute_reply": "2020-08-19T01:52:36.244767Z"
    },
    "papermill": {
     "duration": 1.798725,
     "end_time": "2020-08-19T01:52:36.244920",
     "exception": false,
     "start_time": "2020-08-19T01:52:34.446195",
     "status": "completed"
    },
    "tags": []
   },
   "outputs": [],
   "source": [
    "# Initialize Janome Tokenizer\n",
    "token_jp = janome_tokenizer()"
   ]
  },
  {
   "cell_type": "code",
   "execution_count": 9,
   "metadata": {
    "execution": {
     "iopub.execute_input": "2020-08-19T01:52:36.291692Z",
     "iopub.status.busy": "2020-08-19T01:52:36.281065Z",
     "iopub.status.idle": "2020-08-19T01:52:36.296051Z",
     "shell.execute_reply": "2020-08-19T01:52:36.295427Z"
    },
    "papermill": {
     "duration": 0.037429,
     "end_time": "2020-08-19T01:52:36.296151",
     "exception": false,
     "start_time": "2020-08-19T01:52:36.258722",
     "status": "completed"
    },
    "tags": []
   },
   "outputs": [
    {
     "data": {
      "text/plain": [
       "'ここ で 私 は 英語 で 話し て いる'"
      ]
     },
     "execution_count": 9,
     "metadata": {},
     "output_type": "execute_result"
    }
   ],
   "source": [
    "sample_text = 'ここで私は英語で話している'\n",
    "' '.join([word for word in token_jp.tokenize(sample_text, wakati=True) \\\n",
    "          if word != ' '])"
   ]
  },
  {
   "cell_type": "code",
   "execution_count": 10,
   "metadata": {
    "execution": {
     "iopub.execute_input": "2020-08-19T01:52:36.345679Z",
     "iopub.status.busy": "2020-08-19T01:52:36.325812Z",
     "iopub.status.idle": "2020-08-19T01:53:50.168054Z",
     "shell.execute_reply": "2020-08-19T01:53:50.164544Z"
    },
    "papermill": {
     "duration": 73.859203,
     "end_time": "2020-08-19T01:53:50.168174",
     "exception": false,
     "start_time": "2020-08-19T01:52:36.308971",
     "status": "completed"
    },
    "tags": []
   },
   "outputs": [
    {
     "data": {
      "application/vnd.jupyter.widget-view+json": {
       "model_id": "0f35e9a84b8942be8f51d50b1e91d599",
       "version_major": 2,
       "version_minor": 0
      },
      "text/plain": [
       "HBox(children=(FloatProgress(value=0.0, max=53594.0), HTML(value='')))"
      ]
     },
     "metadata": {},
     "output_type": "display_data"
    },
    {
     "name": "stdout",
     "output_type": "stream",
     "text": [
      "\n"
     ]
    }
   ],
   "source": [
    "# Apply to Japanese Sentences\n",
    "jpn_data = [' '.join([word for word in token_jp.tokenize(x, wakati=True) \\\n",
    "                      if word != ' ']) for x in tqdm(jpn_data)]"
   ]
  },
  {
   "cell_type": "markdown",
   "metadata": {
    "papermill": {
     "duration": 0.013595,
     "end_time": "2020-08-19T01:53:50.196044",
     "exception": false,
     "start_time": "2020-08-19T01:53:50.182449",
     "status": "completed"
    },
    "tags": []
   },
   "source": [
    "For evaluating our model let's split our data."
   ]
  },
  {
   "cell_type": "code",
   "execution_count": 11,
   "metadata": {
    "execution": {
     "iopub.execute_input": "2020-08-19T01:53:50.235282Z",
     "iopub.status.busy": "2020-08-19T01:53:50.230143Z",
     "iopub.status.idle": "2020-08-19T01:53:50.281236Z",
     "shell.execute_reply": "2020-08-19T01:53:50.280313Z"
    },
    "papermill": {
     "duration": 0.072153,
     "end_time": "2020-08-19T01:53:50.281335",
     "exception": false,
     "start_time": "2020-08-19T01:53:50.209182",
     "status": "completed"
    },
    "tags": []
   },
   "outputs": [
    {
     "name": "stdout",
     "output_type": "stream",
     "text": [
      "Splitting to 51450 Train data and 2144 Test data\n"
     ]
    }
   ],
   "source": [
    "eng_train, eng_test, jpn_train, jpn_test = \\\n",
    "train_test_split(eng_data, jpn_data, test_size = 0.04, random_state = 42)\n",
    "\n",
    "print(f\"Splitting to {len(eng_train)} Train data and \\\n",
    "{len(eng_test)} Test data\")"
   ]
  },
  {
   "cell_type": "markdown",
   "metadata": {
    "papermill": {
     "duration": 0.013206,
     "end_time": "2020-08-19T01:53:50.308157",
     "exception": false,
     "start_time": "2020-08-19T01:53:50.294951",
     "status": "completed"
    },
    "tags": []
   },
   "source": [
    "### Add BOS and EOS\n",
    "We put BOS \"Begin of Sequence\" and EOS “End of Sequence\" to help our decoder recognize begin and end of a sequance."
   ]
  },
  {
   "cell_type": "code",
   "execution_count": 12,
   "metadata": {
    "execution": {
     "iopub.execute_input": "2020-08-19T01:53:50.358617Z",
     "iopub.status.busy": "2020-08-19T01:53:50.348122Z",
     "iopub.status.idle": "2020-08-19T01:53:50.382729Z",
     "shell.execute_reply": "2020-08-19T01:53:50.382169Z"
    },
    "papermill": {
     "duration": 0.06097,
     "end_time": "2020-08-19T01:53:50.382828",
     "exception": false,
     "start_time": "2020-08-19T01:53:50.321858",
     "status": "completed"
    },
    "tags": []
   },
   "outputs": [],
   "source": [
    "eng_train = ['bos '+ x + ' eos' for x in eng_train + ['unk unk unk']]\n",
    "jpn_train = ['bos '+ x + ' eos' for x in jpn_train + ['unk unk unk']]\n",
    "\n",
    "eng_val = ['bos '+ x + ' eos' for x in eng_test]\n",
    "jpn_val = ['bos '+ x + ' eos' for x in jpn_test]"
   ]
  },
  {
   "cell_type": "markdown",
   "metadata": {
    "papermill": {
     "duration": 0.013106,
     "end_time": "2020-08-19T01:53:50.410114",
     "exception": false,
     "start_time": "2020-08-19T01:53:50.397008",
     "status": "completed"
    },
    "tags": []
   },
   "source": [
    "# Word Tokenizing\n",
    "Here we use Tokenizer API from Keras to make vocabulary and tokenizing our data"
   ]
  },
  {
   "cell_type": "code",
   "execution_count": 13,
   "metadata": {
    "execution": {
     "iopub.execute_input": "2020-08-19T01:53:50.466548Z",
     "iopub.status.busy": "2020-08-19T01:53:50.461226Z",
     "iopub.status.idle": "2020-08-19T01:53:51.794729Z",
     "shell.execute_reply": "2020-08-19T01:53:51.794044Z"
    },
    "papermill": {
     "duration": 1.370919,
     "end_time": "2020-08-19T01:53:51.794839",
     "exception": false,
     "start_time": "2020-08-19T01:53:50.423920",
     "status": "completed"
    },
    "tags": []
   },
   "outputs": [],
   "source": [
    "# English Tokenizer\n",
    "en_tokenizer = Tokenizer(filters='')\n",
    "en_tokenizer.fit_on_texts(eng_train)\n",
    "\n",
    "# Japannese Tokenizer\n",
    "jp_tokenizer = Tokenizer(filters='')\n",
    "jp_tokenizer.fit_on_texts(jpn_train)"
   ]
  },
  {
   "cell_type": "code",
   "execution_count": 14,
   "metadata": {
    "execution": {
     "iopub.execute_input": "2020-08-19T01:53:51.828267Z",
     "iopub.status.busy": "2020-08-19T01:53:51.827437Z",
     "iopub.status.idle": "2020-08-19T01:53:51.831456Z",
     "shell.execute_reply": "2020-08-19T01:53:51.832412Z"
    },
    "papermill": {
     "duration": 0.023723,
     "end_time": "2020-08-19T01:53:51.832554",
     "exception": false,
     "start_time": "2020-08-19T01:53:51.808831",
     "status": "completed"
    },
    "tags": []
   },
   "outputs": [
    {
     "name": "stdout",
     "output_type": "stream",
     "text": [
      "English vocab size   : 9646\n",
      "Japanese vocab size  : 14403\n"
     ]
    }
   ],
   "source": [
    "print(f'English vocab size   :', len(en_tokenizer.word_index) - 3)\n",
    "print(f'Japanese vocab size  :', len(jp_tokenizer.word_index) - 3)"
   ]
  },
  {
   "cell_type": "markdown",
   "metadata": {
    "papermill": {
     "duration": 0.013513,
     "end_time": "2020-08-19T01:53:51.859821",
     "exception": false,
     "start_time": "2020-08-19T01:53:51.846308",
     "status": "completed"
    },
    "tags": []
   },
   "source": [
    "## Word Cloud\n",
    "What comes when doing NLP? It's Word Cloud. Let's do it for our vocab.\n",
    "\n",
    "Font : [Google Noto Fonts](https://www.google.com/get/noto/) -> Noto Sans CJK JP"
   ]
  },
  {
   "cell_type": "code",
   "execution_count": 15,
   "metadata": {
    "_kg_hide-input": true,
    "_kg_hide-output": true,
    "execution": {
     "iopub.execute_input": "2020-08-19T01:53:51.902837Z",
     "iopub.status.busy": "2020-08-19T01:53:51.902054Z",
     "iopub.status.idle": "2020-08-19T01:53:59.895762Z",
     "shell.execute_reply": "2020-08-19T01:53:59.896256Z"
    },
    "papermill": {
     "duration": 8.022768,
     "end_time": "2020-08-19T01:53:59.896416",
     "exception": false,
     "start_time": "2020-08-19T01:53:51.873648",
     "status": "completed"
    },
    "tags": []
   },
   "outputs": [
    {
     "name": "stdout",
     "output_type": "stream",
     "text": [
      "--2020-08-19 01:53:52--  https://noto-website-2.storage.googleapis.com/pkgs/NotoSansCJKjp-hinted.zip\r\n",
      "Resolving noto-website-2.storage.googleapis.com (noto-website-2.storage.googleapis.com)... 172.217.204.128, 2607:f8b0:400c:c15::80\r\n",
      "Connecting to noto-website-2.storage.googleapis.com (noto-website-2.storage.googleapis.com)|172.217.204.128|:443... connected.\r\n",
      "HTTP request sent, awaiting response... 200 OK\r\n",
      "Length: 121096772 (115M) [application/zip]\r\n",
      "Saving to: ‘NotoSansCJKjp-hinted.zip’\r\n",
      "\r\n",
      "NotoSansCJKjp-hinte 100%[===================>] 115.49M  53.3MB/s    in 2.2s    \r\n",
      "\r\n",
      "2020-08-19 01:53:54 (53.3 MB/s) - ‘NotoSansCJKjp-hinted.zip’ saved [121096772/121096772]\r\n",
      "\r\n",
      "--2020-08-19 01:53:55--  https://raw.githubusercontent.com/Hyuto/NMT-TF-Seq2seq-EN-JP/master/Japan.jpg\r\n",
      "Resolving raw.githubusercontent.com (raw.githubusercontent.com)... 151.101.200.133\r\n",
      "Connecting to raw.githubusercontent.com (raw.githubusercontent.com)|151.101.200.133|:443... connected.\r\n",
      "HTTP request sent, awaiting response... 200 OK\r\n",
      "Length: 3976 (3.9K) [image/jpeg]\r\n",
      "Saving to: ‘Japan.jpg’\r\n",
      "\r\n",
      "Japan.jpg           100%[===================>]   3.88K  --.-KB/s    in 0s      \r\n",
      "\r\n",
      "2020-08-19 01:53:55 (46.7 MB/s) - ‘Japan.jpg’ saved [3976/3976]\r\n",
      "\r\n",
      "--2020-08-19 01:53:56--  https://raw.githubusercontent.com/Hyuto/NMT-TF-Seq2seq-EN-JP/master/English.png\r\n",
      "Resolving raw.githubusercontent.com (raw.githubusercontent.com)... 151.101.200.133\r\n",
      "Connecting to raw.githubusercontent.com (raw.githubusercontent.com)|151.101.200.133|:443... connected.\r\n",
      "HTTP request sent, awaiting response... 200 OK\r\n",
      "Length: 303684 (297K) [image/png]\r\n",
      "Saving to: ‘English.png’\r\n",
      "\r\n",
      "English.png         100%[===================>] 296.57K  --.-KB/s    in 0.1s    \r\n",
      "\r\n",
      "2020-08-19 01:53:56 (2.18 MB/s) - ‘English.png’ saved [303684/303684]\r\n",
      "\r\n",
      "Archive:  NotoSansCJKjp-hinted.zip\r\n",
      "  inflating: ./font/LICENSE_OFL.txt  \r\n",
      "  inflating: ./font/NotoSansCJKjp-Black.otf  \r\n",
      "  inflating: ./font/NotoSansCJKjp-Bold.otf  \r\n",
      "  inflating: ./font/NotoSansCJKjp-DemiLight.otf  \r\n",
      "  inflating: ./font/NotoSansCJKjp-Light.otf  \r\n",
      "  inflating: ./font/NotoSansCJKjp-Medium.otf  \r\n",
      "  inflating: ./font/NotoSansCJKjp-Regular.otf  \r\n",
      "  inflating: ./font/NotoSansCJKjp-Thin.otf  \r\n",
      "  inflating: ./font/NotoSansMonoCJKjp-Bold.otf  \r\n",
      "  inflating: ./font/NotoSansMonoCJKjp-Regular.otf  \r\n",
      "  inflating: ./font/README           \r\n"
     ]
    }
   ],
   "source": [
    "!wget https://noto-website-2.storage.googleapis.com/pkgs/NotoSansCJKjp-hinted.zip\n",
    "!wget https://raw.githubusercontent.com/Hyuto/NMT-TF-Seq2seq-EN-JP/master/Japan.jpg\n",
    "!wget https://raw.githubusercontent.com/Hyuto/NMT-TF-Seq2seq-EN-JP/master/English.png\n",
    "!mkdir font\n",
    "!unzip NotoSansCJKjp-hinted.zip -d ./font"
   ]
  },
  {
   "cell_type": "code",
   "execution_count": 16,
   "metadata": {
    "_kg_hide-input": true,
    "_kg_hide-output": true,
    "execution": {
     "iopub.execute_input": "2020-08-19T01:53:59.951144Z",
     "iopub.status.busy": "2020-08-19T01:53:59.945971Z",
     "iopub.status.idle": "2020-08-19T01:55:24.077670Z",
     "shell.execute_reply": "2020-08-19T01:55:24.077035Z"
    },
    "papermill": {
     "duration": 84.165242,
     "end_time": "2020-08-19T01:55:24.077791",
     "exception": false,
     "start_time": "2020-08-19T01:53:59.912549",
     "status": "completed"
    },
    "tags": []
   },
   "outputs": [],
   "source": [
    "from wordcloud import WordCloud, ImageColorGenerator\n",
    "from PIL import Image\n",
    "\n",
    "def get_words(arr):\n",
    "    keys = list(arr.keys())\n",
    "    count = list(arr.values())\n",
    "    return ' '.join([x for _,x in sorted(zip(count, keys), reverse = True)][2:])\n",
    "\n",
    "def transform(arr):\n",
    "    for i in range(len(arr)):\n",
    "        for j in range(len(arr[i])):\n",
    "            if not any(arr[i][j]):\n",
    "                arr[i][j] = np.array([225, 225, 225, 225])\n",
    "    return arr\n",
    "\n",
    "font_path = './font/NotoSansCJKjp-Light.otf'\n",
    "\n",
    "\n",
    "mask = './English.png'\n",
    "mask = np.array(Image.open(mask))\n",
    "mask = transform(mask)\n",
    "image_colors = ImageColorGenerator(mask)\n",
    "words = get_words(en_tokenizer.word_counts).title()\n",
    "wc = WordCloud(background_color=\"white\", max_words=2000, random_state=42,\n",
    "               width=mask.shape[1], height=mask.shape[0])\n",
    "wc = wc.generate(words)\n",
    "fig1, ax1 = plt.subplots(figsize=(20,15))\n",
    "ax1.imshow(wc.recolor(color_func=image_colors), interpolation='bilinear')\n",
    "ax1.axis(\"off\")\n",
    "\n",
    "mask = './Japan.jpg'\n",
    "mask = np.array(Image.open(mask))\n",
    "image_colors = ImageColorGenerator(mask)\n",
    "words = get_words(jp_tokenizer.word_counts).title()\n",
    "wc = WordCloud(collocations=False, background_color=\"white\", mode=\"RGBA\", \n",
    "               max_words=6000, font_path=font_path, contour_width=1, \n",
    "               scale=5, max_font_size = 50, relative_scaling=0.5, \n",
    "               random_state=42, width=mask.shape[1], height=mask.shape[0])\n",
    "wc = wc.generate(words)\n",
    "fig2, ax2 = plt.subplots(figsize=(20,15))\n",
    "ax2.imshow(wc.recolor(color_func=image_colors), interpolation='bilinear')\n",
    "ax2.axis(\"off\")\n",
    "\n",
    "fig1.savefig('WC_English.png')\n",
    "fig2.savefig('WC_Japanese.png')\n",
    "plt.close(fig1)\n",
    "plt.close(fig2)\n",
    "\n",
    "!rm -rf ./font"
   ]
  },
  {
   "cell_type": "code",
   "execution_count": 17,
   "metadata": {
    "_kg_hide-input": true,
    "execution": {
     "iopub.execute_input": "2020-08-19T01:55:24.118606Z",
     "iopub.status.busy": "2020-08-19T01:55:24.117313Z",
     "iopub.status.idle": "2020-08-19T01:55:24.121201Z",
     "shell.execute_reply": "2020-08-19T01:55:24.121672Z"
    },
    "papermill": {
     "duration": 0.027808,
     "end_time": "2020-08-19T01:55:24.121811",
     "exception": false,
     "start_time": "2020-08-19T01:55:24.094003",
     "status": "completed"
    },
    "tags": []
   },
   "outputs": [
    {
     "data": {
      "text/html": [
       "\n",
       "<head>\n",
       "    <meta name=\"viewport\" content=\"width=device-width, initial-scale=1\">\n",
       "    <style>\n",
       "        body {font-family: Arial;}\n",
       "        img {max-width:100%; height:auto}\n",
       "        .tab {\n",
       "          overflow: hidden;\n",
       "          border: 1px solid #ccc;\n",
       "          background-color: #f1f1f1;\n",
       "        }\n",
       "        .tab button {\n",
       "          background-color: #5ECF57;\n",
       "          float: left;\n",
       "          border: none;\n",
       "          outline: none;\n",
       "          cursor: pointer;\n",
       "          padding: 14px 16px;\n",
       "          transition: 0.3s;\n",
       "          font-size: 17px;\n",
       "        }\n",
       "        .tab button:hover {\n",
       "          background-color: #48C768;\n",
       "        }\n",
       "        .tab button.active {\n",
       "          background-color: #48C768;\n",
       "        }\n",
       "        .tabcontent {\n",
       "          display: none;\n",
       "          padding: 6px 12px;\n",
       "          border: 1px solid #ccc;\n",
       "          border-top: none;\n",
       "        }\n",
       "    </style>\n",
       "</head>\n",
       "<body>\n",
       "    <h2>Word Cloud</h2>\n",
       "    <p>Click on the buttons inside the tabbed menu</p>\n",
       "\n",
       "    <div class=\"tab\">\n",
       "        <button class=\"tablinks\" onclick=\"openCity(event, 'English')\">English</button>\n",
       "        <button class=\"tablinks\" onclick=\"openCity(event, 'Japanese')\">Japanese</button>\n",
       "    </div>\n",
       "\n",
       "    <div id=\"English\" class=\"tabcontent\">\n",
       "        <h3>English</h3>\n",
       "        <p>English Vocabulary WordCloud</p>\n",
       "        <img src=\"./WC_English.png\" alt=\"WC_English.png\">\n",
       "    </div>\n",
       "\n",
       "    <div id=\"Japanese\" class=\"tabcontent\">\n",
       "        <h3>Japanese</h3>\n",
       "        <p>Japanese Vocabulary WordCloud</p>\n",
       "        <img src=\"./WC_Japanese.png\" alt=\"WC_Japanese.png\">\n",
       "    </div>\n",
       "\n",
       "    <script>\n",
       "    function openCity(evt, cityName) {\n",
       "      var i, tabcontent, tablinks;\n",
       "      tabcontent = document.getElementsByClassName(\"tabcontent\");\n",
       "      for (i = 0; i < tabcontent.length; i++) {\n",
       "        tabcontent[i].style.display = \"none\";\n",
       "      }\n",
       "      tablinks = document.getElementsByClassName(\"tablinks\");\n",
       "      for (i = 0; i < tablinks.length; i++) {\n",
       "        tablinks[i].className = tablinks[i].className.replace(\" active\", \"\");\n",
       "      }\n",
       "      document.getElementById(cityName).style.display = \"block\";\n",
       "      evt.currentTarget.className += \" active\";\n",
       "    }\n",
       "    </script>\n",
       "   \n",
       "</body>\n"
      ],
      "text/plain": [
       "<IPython.core.display.HTML object>"
      ]
     },
     "metadata": {},
     "output_type": "display_data"
    }
   ],
   "source": [
    "# @hidden_cell\n",
    "%%HTML\n",
    "\n",
    "<head>\n",
    "    <meta name=\"viewport\" content=\"width=device-width, initial-scale=1\">\n",
    "    <style>\n",
    "        body {font-family: Arial;}\n",
    "        img {max-width:100%; height:auto}\n",
    "        .tab {\n",
    "          overflow: hidden;\n",
    "          border: 1px solid #ccc;\n",
    "          background-color: #f1f1f1;\n",
    "        }\n",
    "        .tab button {\n",
    "          background-color: #5ECF57;\n",
    "          float: left;\n",
    "          border: none;\n",
    "          outline: none;\n",
    "          cursor: pointer;\n",
    "          padding: 14px 16px;\n",
    "          transition: 0.3s;\n",
    "          font-size: 17px;\n",
    "        }\n",
    "        .tab button:hover {\n",
    "          background-color: #48C768;\n",
    "        }\n",
    "        .tab button.active {\n",
    "          background-color: #48C768;\n",
    "        }\n",
    "        .tabcontent {\n",
    "          display: none;\n",
    "          padding: 6px 12px;\n",
    "          border: 1px solid #ccc;\n",
    "          border-top: none;\n",
    "        }\n",
    "    </style>\n",
    "</head>\n",
    "<body>\n",
    "    <h2>Word Cloud</h2>\n",
    "    <p>Click on the buttons inside the tabbed menu</p>\n",
    "\n",
    "    <div class=\"tab\">\n",
    "        <button class=\"tablinks\" onclick=\"openCity(event, 'English')\">English</button>\n",
    "        <button class=\"tablinks\" onclick=\"openCity(event, 'Japanese')\">Japanese</button>\n",
    "    </div>\n",
    "\n",
    "    <div id=\"English\" class=\"tabcontent\">\n",
    "        <h3>English</h3>\n",
    "        <p>English Vocabulary WordCloud</p>\n",
    "        <img src=\"./WC_English.png\" alt=\"WC_English.png\">\n",
    "    </div>\n",
    "\n",
    "    <div id=\"Japanese\" class=\"tabcontent\">\n",
    "        <h3>Japanese</h3>\n",
    "        <p>Japanese Vocabulary WordCloud</p>\n",
    "        <img src=\"./WC_Japanese.png\" alt=\"WC_Japanese.png\">\n",
    "    </div>\n",
    "\n",
    "    <script>\n",
    "    function openCity(evt, cityName) {\n",
    "      var i, tabcontent, tablinks;\n",
    "      tabcontent = document.getElementsByClassName(\"tabcontent\");\n",
    "      for (i = 0; i < tabcontent.length; i++) {\n",
    "        tabcontent[i].style.display = \"none\";\n",
    "      }\n",
    "      tablinks = document.getElementsByClassName(\"tablinks\");\n",
    "      for (i = 0; i < tablinks.length; i++) {\n",
    "        tablinks[i].className = tablinks[i].className.replace(\" active\", \"\");\n",
    "      }\n",
    "      document.getElementById(cityName).style.display = \"block\";\n",
    "      evt.currentTarget.className += \" active\";\n",
    "    }\n",
    "    </script>\n",
    "   \n",
    "</body>"
   ]
  },
  {
   "cell_type": "markdown",
   "metadata": {
    "papermill": {
     "duration": 0.016505,
     "end_time": "2020-08-19T01:55:24.154043",
     "exception": false,
     "start_time": "2020-08-19T01:55:24.137538",
     "status": "completed"
    },
    "tags": []
   },
   "source": [
    "now let's transform our train sentences to sequences."
   ]
  },
  {
   "cell_type": "code",
   "execution_count": 18,
   "metadata": {
    "execution": {
     "iopub.execute_input": "2020-08-19T01:55:24.192789Z",
     "iopub.status.busy": "2020-08-19T01:55:24.192051Z",
     "iopub.status.idle": "2020-08-19T01:55:24.196181Z",
     "shell.execute_reply": "2020-08-19T01:55:24.195696Z"
    },
    "papermill": {
     "duration": 0.026435,
     "end_time": "2020-08-19T01:55:24.196284",
     "exception": false,
     "start_time": "2020-08-19T01:55:24.169849",
     "status": "completed"
    },
    "tags": []
   },
   "outputs": [],
   "source": [
    "def Sequences(texts, tokenizer):\n",
    "    res = []\n",
    "    for text in texts:\n",
    "        seq = []\n",
    "        for w in text.split():\n",
    "            try:\n",
    "                seq.append(tokenizer.word_index[w])\n",
    "            except:\n",
    "                seq.append(tokenizer.word_index['unk'])\n",
    "        res.append(seq)\n",
    "    return res"
   ]
  },
  {
   "cell_type": "code",
   "execution_count": 19,
   "metadata": {
    "execution": {
     "iopub.execute_input": "2020-08-19T01:55:24.262143Z",
     "iopub.status.busy": "2020-08-19T01:55:24.245122Z",
     "iopub.status.idle": "2020-08-19T01:55:25.563661Z",
     "shell.execute_reply": "2020-08-19T01:55:25.562540Z"
    },
    "papermill": {
     "duration": 1.352052,
     "end_time": "2020-08-19T01:55:25.563794",
     "exception": false,
     "start_time": "2020-08-19T01:55:24.211742",
     "status": "completed"
    },
    "tags": []
   },
   "outputs": [],
   "source": [
    "# Transform Sentences to Sequences\n",
    "data_en = en_tokenizer.texts_to_sequences(eng_train)\n",
    "data_jp = jp_tokenizer.texts_to_sequences(jpn_train)\n",
    "\n",
    "val_en = Sequences(eng_val, en_tokenizer)\n",
    "val_jp = Sequences(jpn_val, jp_tokenizer)"
   ]
  },
  {
   "cell_type": "code",
   "execution_count": 20,
   "metadata": {
    "execution": {
     "iopub.execute_input": "2020-08-19T01:55:25.612910Z",
     "iopub.status.busy": "2020-08-19T01:55:25.611078Z",
     "iopub.status.idle": "2020-08-19T01:55:26.043208Z",
     "shell.execute_reply": "2020-08-19T01:55:26.043686Z"
    },
    "papermill": {
     "duration": 0.463852,
     "end_time": "2020-08-19T01:55:26.043828",
     "exception": false,
     "start_time": "2020-08-19T01:55:25.579976",
     "status": "completed"
    },
    "tags": []
   },
   "outputs": [
    {
     "data": {
      "image/png": "[encoded data removed]",
      "text/plain": [
       "<Figure size 576x576 with 1 Axes>"
      ]
     },
     "metadata": {
      "needs_background": "light"
     },
     "output_type": "display_data"
    }
   ],
   "source": [
    "plt.figure(figsize = (8,8))\n",
    "sns.distplot([len(x) for x in data_en], label='English')\n",
    "sns.distplot([len(x) for x in data_jp], label='Japanese')\n",
    "plt.title('Distribution of Sentences Length')\n",
    "plt.legend()\n",
    "plt.show()"
   ]
  },
  {
   "cell_type": "markdown",
   "metadata": {
    "papermill": {
     "duration": 0.016269,
     "end_time": "2020-08-19T01:55:26.076651",
     "exception": false,
     "start_time": "2020-08-19T01:55:26.060382",
     "status": "completed"
    },
    "tags": []
   },
   "source": [
    "based on the distplot English sentences contains about 20 - 40 words while Japanese have more wider range. \n",
    "\n",
    "Let's check their max lenght"
   ]
  },
  {
   "cell_type": "code",
   "execution_count": 21,
   "metadata": {
    "execution": {
     "iopub.execute_input": "2020-08-19T01:55:26.128177Z",
     "iopub.status.busy": "2020-08-19T01:55:26.127429Z",
     "iopub.status.idle": "2020-08-19T01:55:26.132348Z",
     "shell.execute_reply": "2020-08-19T01:55:26.131874Z"
    },
    "papermill": {
     "duration": 0.039792,
     "end_time": "2020-08-19T01:55:26.132449",
     "exception": false,
     "start_time": "2020-08-19T01:55:26.092657",
     "status": "completed"
    },
    "tags": []
   },
   "outputs": [
    {
     "name": "stdout",
     "output_type": "stream",
     "text": [
      "Maximum length of English sequences is  49\n",
      "Maximum length of Japanese sequences is 54\n"
     ]
    }
   ],
   "source": [
    "max_en = max([len(x) for x in data_en] + [len(x) for x in val_en])\n",
    "max_jp = max([len(x) for x in data_jp] + [len(x) for x in val_jp])\n",
    "\n",
    "print(f'Maximum length of English sequences is  {max_en}')\n",
    "print(f'Maximum length of Japanese sequences is {max_jp}')"
   ]
  },
  {
   "cell_type": "code",
   "execution_count": 22,
   "metadata": {
    "execution": {
     "iopub.execute_input": "2020-08-19T01:55:26.180689Z",
     "iopub.status.busy": "2020-08-19T01:55:26.178088Z",
     "iopub.status.idle": "2020-08-19T01:55:26.960319Z",
     "shell.execute_reply": "2020-08-19T01:55:26.959771Z"
    },
    "papermill": {
     "duration": 0.811532,
     "end_time": "2020-08-19T01:55:26.960426",
     "exception": false,
     "start_time": "2020-08-19T01:55:26.148894",
     "status": "completed"
    },
    "tags": []
   },
   "outputs": [],
   "source": [
    "# Padding Sequences\n",
    "data_en = pad_sequences(data_en, padding='post', maxlen = max_en)\n",
    "data_jp = pad_sequences(data_jp, padding='post', maxlen = max_jp)\n",
    "\n",
    "val_en = pad_sequences(val_en, padding='post', maxlen = max_en)\n",
    "val_jp = pad_sequences(val_jp, padding='post', maxlen = max_jp)"
   ]
  },
  {
   "cell_type": "markdown",
   "metadata": {
    "papermill": {
     "duration": 0.016326,
     "end_time": "2020-08-19T01:55:26.994225",
     "exception": false,
     "start_time": "2020-08-19T01:55:26.977899",
     "status": "completed"
    },
    "tags": []
   },
   "source": [
    "# Build & Train Model\n",
    "Now it's the time brace yourself.\n",
    "\n",
    "We'll build model based on Seq2seq approaches with Attention optimization.\n",
    "> Seq2Seq is a method of encoder-decoder based machine translation that maps an input of sequence to an output of sequence with a tag and attention value. The idea is to use 2 RNN that will work together with a special token and trying to predict the next state sequence from the previous sequence.\n",
    "\n",
    "![Seq2Seq](https://raw.githubusercontent.com/Hyuto/NMT-TF-Seq2seq-EN-JP/master/Seq2Seq.png)"
   ]
  },
  {
   "cell_type": "code",
   "execution_count": 23,
   "metadata": {
    "execution": {
     "iopub.execute_input": "2020-08-19T01:55:27.034774Z",
     "iopub.status.busy": "2020-08-19T01:55:27.032813Z",
     "iopub.status.idle": "2020-08-19T01:55:27.035439Z",
     "shell.execute_reply": "2020-08-19T01:55:27.035940Z"
    },
    "papermill": {
     "duration": 0.025714,
     "end_time": "2020-08-19T01:55:27.036062",
     "exception": false,
     "start_time": "2020-08-19T01:55:27.010348",
     "status": "completed"
    },
    "tags": []
   },
   "outputs": [],
   "source": [
    "# Config\n",
    "epochs = 7\n",
    "BATCH_SIZE = 64\n",
    "BUFFER_SIZE = len(data_jp)\n",
    "steps_per_epoch = BUFFER_SIZE//BATCH_SIZE\n",
    "val_steps_per_epoch = len(val_jp) // BATCH_SIZE\n",
    "embedding_dims = 256\n",
    "rnn_units = 1024\n",
    "dense_units = 1024\n",
    "Dtype = tf.float32"
   ]
  },
  {
   "cell_type": "code",
   "execution_count": 24,
   "metadata": {
    "execution": {
     "iopub.execute_input": "2020-08-19T01:55:27.073669Z",
     "iopub.status.busy": "2020-08-19T01:55:27.072913Z",
     "iopub.status.idle": "2020-08-19T01:55:27.077436Z",
     "shell.execute_reply": "2020-08-19T01:55:27.076908Z"
    },
    "papermill": {
     "duration": 0.025255,
     "end_time": "2020-08-19T01:55:27.077547",
     "exception": false,
     "start_time": "2020-08-19T01:55:27.052292",
     "status": "completed"
    },
    "tags": []
   },
   "outputs": [],
   "source": [
    "def max_len(tensor):\n",
    "    \"\"\"\n",
    "    Get max len in Sequences\n",
    "    \"\"\"\n",
    "    return max( len(t) for t in tensor)"
   ]
  },
  {
   "cell_type": "code",
   "execution_count": 25,
   "metadata": {
    "execution": {
     "iopub.execute_input": "2020-08-19T01:55:27.146866Z",
     "iopub.status.busy": "2020-08-19T01:55:27.141776Z",
     "iopub.status.idle": "2020-08-19T01:55:29.932622Z",
     "shell.execute_reply": "2020-08-19T01:55:29.931399Z"
    },
    "papermill": {
     "duration": 2.836854,
     "end_time": "2020-08-19T01:55:29.932750",
     "exception": false,
     "start_time": "2020-08-19T01:55:27.095896",
     "status": "completed"
    },
    "tags": []
   },
   "outputs": [],
   "source": [
    "# Max Len\n",
    "Tx = max_len(data_en)\n",
    "Ty = max_len(data_jp)\n",
    "\n",
    "# Vocab\n",
    "input_vocab_size = len(en_tokenizer.word_index) + 1   # English\n",
    "output_vocab_size = len(jp_tokenizer.word_index) + 1  # Japanese\n",
    "\n",
    "# Changging to TF data\n",
    "dataset = (tf.data.Dataset.from_tensor_slices((data_en, data_jp))\n",
    "           .shuffle(BUFFER_SIZE)\n",
    "           .batch(BATCH_SIZE, drop_remainder=True)\n",
    "          )\n",
    "\n",
    "val_dataset = (tf.data.Dataset.from_tensor_slices((val_en, val_jp))\n",
    "               .batch(BATCH_SIZE)\n",
    "              )"
   ]
  },
  {
   "cell_type": "markdown",
   "metadata": {
    "papermill": {
     "duration": 0.015956,
     "end_time": "2020-08-19T01:55:29.965560",
     "exception": false,
     "start_time": "2020-08-19T01:55:29.949604",
     "status": "completed"
    },
    "tags": []
   },
   "source": [
    "Let's define our based Seq2Seq Model"
   ]
  },
  {
   "cell_type": "code",
   "execution_count": 26,
   "metadata": {
    "execution": {
     "iopub.execute_input": "2020-08-19T01:55:30.013222Z",
     "iopub.status.busy": "2020-08-19T01:55:30.011162Z",
     "iopub.status.idle": "2020-08-19T01:55:30.017010Z",
     "shell.execute_reply": "2020-08-19T01:55:30.016522Z"
    },
    "papermill": {
     "duration": 0.035212,
     "end_time": "2020-08-19T01:55:30.017107",
     "exception": false,
     "start_time": "2020-08-19T01:55:29.981895",
     "status": "completed"
    },
    "tags": []
   },
   "outputs": [],
   "source": [
    "#ENCODER\n",
    "class EncoderNetwork(tf.keras.Model):\n",
    "    def __init__(self,input_vocab_size,embedding_dims, rnn_units ):\n",
    "        super().__init__()\n",
    "        self.encoder_embedding = Embedding(input_dim=input_vocab_size,\n",
    "                                           output_dim=embedding_dims)\n",
    "        self.encoder_rnnlayer = LSTM(rnn_units,return_sequences=True,\n",
    "                                     return_state=True )\n",
    "    \n",
    "#DECODER\n",
    "class DecoderNetwork(tf.keras.Model):\n",
    "    def __init__(self,output_vocab_size, embedding_dims, rnn_units):\n",
    "        super().__init__()\n",
    "        self.decoder_embedding = Embedding(input_dim=output_vocab_size,\n",
    "                                           output_dim=embedding_dims) \n",
    "        self.dense_layer = Dense(output_vocab_size)\n",
    "        self.decoder_rnncell = LSTMCell(rnn_units)\n",
    "        # Sampler\n",
    "        self.sampler = tfa.seq2seq.sampler.TrainingSampler()\n",
    "        # Create attention mechanism with memory = None\n",
    "        self.attention_mechanism = \\\n",
    "            self.build_attention_mechanism(dense_units,None,BATCH_SIZE*[Tx])\n",
    "        self.rnn_cell = self.build_rnn_cell(BATCH_SIZE)\n",
    "        self.decoder = tfa.seq2seq.BasicDecoder(self.rnn_cell,\n",
    "                                                sampler= self.sampler,\n",
    "                                                output_layer = self.dense_layer\n",
    "                                               )\n",
    "\n",
    "    def build_attention_mechanism(self, units, memory, MSL):\n",
    "        \"\"\"\n",
    "        MSL : Memory Sequence Length\n",
    "        \"\"\"\n",
    "        #return tfa.seq2seq.LuongAttention(units, memory = memory, \n",
    "        #                                  memory_sequence_length = MSL)\n",
    "        return tfa.seq2seq.BahdanauAttention(units, memory = memory, \n",
    "                                             memory_sequence_length = MSL)\n",
    "\n",
    "    # wrap decodernn cell  \n",
    "    def build_rnn_cell(self, batch_size):\n",
    "        return tfa.seq2seq.AttentionWrapper(self.decoder_rnncell, \n",
    "                                            self.attention_mechanism,\n",
    "                                            attention_layer_size=dense_units)\n",
    "    \n",
    "    def build_decoder_initial_state(self, batch_size, encoder_state, Dtype):\n",
    "        decoder_initial_state = self.rnn_cell.get_initial_state(batch_size = batch_size, \n",
    "                                                                dtype = Dtype)\n",
    "        decoder_initial_state = decoder_initial_state.clone(cell_state = encoder_state) \n",
    "        return decoder_initial_state"
   ]
  },
  {
   "cell_type": "code",
   "execution_count": 27,
   "metadata": {
    "execution": {
     "iopub.execute_input": "2020-08-19T01:55:30.054378Z",
     "iopub.status.busy": "2020-08-19T01:55:30.053829Z",
     "iopub.status.idle": "2020-08-19T01:55:30.378790Z",
     "shell.execute_reply": "2020-08-19T01:55:30.378235Z"
    },
    "papermill": {
     "duration": 0.345669,
     "end_time": "2020-08-19T01:55:30.378906",
     "exception": false,
     "start_time": "2020-08-19T01:55:30.033237",
     "status": "completed"
    },
    "tags": []
   },
   "outputs": [],
   "source": [
    "# Build Model\n",
    "encoderNetwork = EncoderNetwork(input_vocab_size, embedding_dims, rnn_units)\n",
    "decoderNetwork = DecoderNetwork(output_vocab_size, embedding_dims, rnn_units)\n",
    "\n",
    "# Optimizer\n",
    "optimizer = tf.keras.optimizers.Adam()"
   ]
  },
  {
   "cell_type": "markdown",
   "metadata": {
    "papermill": {
     "duration": 0.016577,
     "end_time": "2020-08-19T01:55:30.448885",
     "exception": false,
     "start_time": "2020-08-19T01:55:30.432308",
     "status": "completed"
    },
    "tags": []
   },
   "source": [
    "Make custom training loop"
   ]
  },
  {
   "cell_type": "code",
   "execution_count": 28,
   "metadata": {
    "execution": {
     "iopub.execute_input": "2020-08-19T01:55:30.502739Z",
     "iopub.status.busy": "2020-08-19T01:55:30.495468Z",
     "iopub.status.idle": "2020-08-19T01:55:30.504969Z",
     "shell.execute_reply": "2020-08-19T01:55:30.505473Z"
    },
    "papermill": {
     "duration": 0.040293,
     "end_time": "2020-08-19T01:55:30.505609",
     "exception": false,
     "start_time": "2020-08-19T01:55:30.465316",
     "status": "completed"
    },
    "tags": []
   },
   "outputs": [],
   "source": [
    "def loss_function(y_pred, y):\n",
    "    #shape of y [batch_size, ty]\n",
    "    #shape of y_pred [batch_size, Ty, output_vocab_size] \n",
    "    sparsecategoricalcrossentropy = SparseCategoricalCrossentropy(from_logits=True,\n",
    "                                                                  reduction='none')\n",
    "    loss = sparsecategoricalcrossentropy(y_true=y, y_pred=y_pred)\n",
    "    mask = tf.logical_not(tf.math.equal(y,0))   #output 0 for y=0 else output 1\n",
    "    mask = tf.cast(mask, dtype=loss.dtype)\n",
    "    loss = mask * loss\n",
    "    loss = tf.reduce_mean(loss)\n",
    "    return loss\n",
    "\n",
    "@tf.function\n",
    "def train_step(input_batch, output_batch, encoder_initial_cell_state):\n",
    "    # initialize loss = 0\n",
    "    loss = 0\n",
    "    with tf.GradientTape() as tape:\n",
    "        encoder_emb_inp = encoderNetwork.encoder_embedding(input_batch)\n",
    "        a, a_tx, c_tx = encoderNetwork.encoder_rnnlayer(encoder_emb_inp, \n",
    "                                                        initial_state = encoder_initial_cell_state)\n",
    "\n",
    "        # [last step activations,last memory_state] of \n",
    "        # encoder passed as input to decoder Network\n",
    "         \n",
    "        # Prepare correct Decoder input & output sequence data\n",
    "        decoder_input = output_batch[:,:-1] # ignore eos\n",
    "        # compare logits with timestepped +1 version of decoder_input\n",
    "        decoder_output = output_batch[:,1:] #ignore bos\n",
    "\n",
    "        # Decoder Embeddings\n",
    "        decoder_emb_inp = decoderNetwork.decoder_embedding(decoder_input)\n",
    "\n",
    "        # Setting up decoder memory from encoder output \n",
    "        # and Zero State for AttentionWrapperState\n",
    "        decoderNetwork.attention_mechanism.setup_memory(a)\n",
    "        decoder_initial_state = decoderNetwork.build_decoder_initial_state(BATCH_SIZE,\n",
    "                                                                           encoder_state=[a_tx, c_tx],\n",
    "                                                                           Dtype=tf.float32)\n",
    "        \n",
    "        # BasicDecoderOutput        \n",
    "        outputs, _, _ = decoderNetwork.decoder(decoder_emb_inp,initial_state=decoder_initial_state,\n",
    "                                               sequence_length=BATCH_SIZE*[Ty-1])\n",
    "\n",
    "        logits = outputs.rnn_output\n",
    "        \n",
    "        # Calculate loss\n",
    "        loss = loss_function(logits, decoder_output)\n",
    "\n",
    "    # Returns the list of all layer variables / weights.\n",
    "    variables = encoderNetwork.trainable_variables + decoderNetwork.trainable_variables  \n",
    "    # differentiate loss wrt variables\n",
    "    gradients = tape.gradient(loss, variables)\n",
    "\n",
    "    # grads_and_vars – List of(gradient, variable) pairs.\n",
    "    grads_and_vars = zip(gradients,variables)\n",
    "    optimizer.apply_gradients(grads_and_vars)\n",
    "    return loss\n",
    "\n",
    "@tf.function\n",
    "def evaluate(input_batch, output_batch, encoder_initial_cell_state):\n",
    "    loss = 0\n",
    "    encoder_emb_inp = encoderNetwork.encoder_embedding(input_batch)\n",
    "    a, a_tx, c_tx = encoderNetwork.encoder_rnnlayer(encoder_emb_inp, \n",
    "                                                    initial_state =encoder_initial_cell_state)\n",
    "    decoder_input = output_batch[:,:-1]\n",
    "    decoder_output = output_batch[:,1:]\n",
    "    decoder_emb_inp = decoderNetwork.decoder_embedding(decoder_input)\n",
    "    decoderNetwork.attention_mechanism.setup_memory(a)\n",
    "    decoder_initial_state = decoderNetwork.build_decoder_initial_state(BATCH_SIZE,\n",
    "                                                                       encoder_state=[a_tx, c_tx],\n",
    "                                                                       Dtype=tf.float32)\n",
    "    outputs, _, _ = decoderNetwork.decoder(decoder_emb_inp,initial_state=decoder_initial_state,\n",
    "                                           sequence_length=BATCH_SIZE*[Ty-1])\n",
    "    logits = outputs.rnn_output\n",
    "    loss = loss_function(logits, decoder_output)\n",
    "    return loss"
   ]
  },
  {
   "cell_type": "code",
   "execution_count": 29,
   "metadata": {
    "execution": {
     "iopub.execute_input": "2020-08-19T01:55:30.543737Z",
     "iopub.status.busy": "2020-08-19T01:55:30.543066Z",
     "iopub.status.idle": "2020-08-19T01:55:30.547406Z",
     "shell.execute_reply": "2020-08-19T01:55:30.546923Z"
    },
    "papermill": {
     "duration": 0.025531,
     "end_time": "2020-08-19T01:55:30.547518",
     "exception": false,
     "start_time": "2020-08-19T01:55:30.521987",
     "status": "completed"
    },
    "tags": []
   },
   "outputs": [],
   "source": [
    "# RNN LSTM hidden and memory state initializer\n",
    "def initialize_initial_state():\n",
    "    return [tf.zeros((BATCH_SIZE, rnn_units)), tf.zeros((BATCH_SIZE, rnn_units))]"
   ]
  },
  {
   "cell_type": "markdown",
   "metadata": {
    "papermill": {
     "duration": 0.016348,
     "end_time": "2020-08-19T01:55:30.580609",
     "exception": false,
     "start_time": "2020-08-19T01:55:30.564261",
     "status": "completed"
    },
    "tags": []
   },
   "source": [
    "# Calculating BLEU Score\n",
    "> BLEU (bilingual evaluation understudy) is an algorithm for evaluating the quality of text which has been machine-translated from one natural language to another. Quality is considered to be the correspondence between a machine's output and that of a human: \"the closer a machine translation is to a professional human translation, the better it is\". - Wikipedia\n",
    "\n",
    "BLEU is a metric for evaluating a generated sentence to a reference sentence.\n",
    "A perfect match results in a score of 1.0, whereas a perfect mismatch results in a score of 0.0.\n",
    "\n",
    "\n",
    "So now we're going to define our translation function & calculate the BLEU score for test data at the end of every epoch while training. Note that test data is sentences that our tokenizer didn't train with, so there must be some words that our tokenizer didn't know. \n",
    "I'm currently working to fix this issue. Based on keras Tokenizer API it have `oov_token` for handling this but i'm not sure.\n",
    "\n",
    "For now i'm handling this by adding `unk` in train dataset so the tokenizer can read it, and then when coming to translation if there is word that our tokenizer don't know i'll set it by index of `unk` not very eficient but it works."
   ]
  },
  {
   "cell_type": "code",
   "execution_count": 30,
   "metadata": {
    "execution": {
     "iopub.execute_input": "2020-08-19T01:55:30.639229Z",
     "iopub.status.busy": "2020-08-19T01:55:30.632068Z",
     "iopub.status.idle": "2020-08-19T01:55:30.642105Z",
     "shell.execute_reply": "2020-08-19T01:55:30.642781Z"
    },
    "papermill": {
     "duration": 0.045653,
     "end_time": "2020-08-19T01:55:30.642961",
     "exception": false,
     "start_time": "2020-08-19T01:55:30.597308",
     "status": "completed"
    },
    "tags": []
   },
   "outputs": [],
   "source": [
    "# Translate\n",
    "def Translate(input_raw):\n",
    "    input_raw = CP(preprocess(input_raw))\n",
    "    input_lines = ['bos '+ input_raw + '']\n",
    "    \n",
    "    input_sequences, unique = [], []\n",
    "    for line in input_lines:\n",
    "        temp = []\n",
    "        for w in line.split(' '):\n",
    "            try:\n",
    "                temp.append(en_tokenizer.word_index[w])\n",
    "            except: # Avoid Error\n",
    "                unique.append(w)\n",
    "                temp.append(en_tokenizer.word_index['unk'])\n",
    "        input_sequences.append(temp)\n",
    "    \n",
    "    input_sequences = pad_sequences(input_sequences, maxlen=Tx, padding='post')\n",
    "    inp = tf.convert_to_tensor(input_sequences)\n",
    "    inference_batch_size = input_sequences.shape[0]\n",
    "    encoder_initial_cell_state = [tf.zeros((inference_batch_size, rnn_units)),\n",
    "                                  tf.zeros((inference_batch_size, rnn_units))]\n",
    "    encoder_emb_inp = encoderNetwork.encoder_embedding(inp)\n",
    "    a, a_tx, c_tx = encoderNetwork.encoder_rnnlayer(encoder_emb_inp,\n",
    "                                                    initial_state = encoder_initial_cell_state)\n",
    "\n",
    "    start_tokens = tf.fill([inference_batch_size], jp_tokenizer.word_index['bos'])\n",
    "\n",
    "    end_token = jp_tokenizer.word_index['eos']\n",
    "\n",
    "    greedy_sampler = tfa.seq2seq.GreedyEmbeddingSampler()\n",
    "\n",
    "    decoder_input = tf.expand_dims([jp_tokenizer.word_index['bos']] * inference_batch_size,1)\n",
    "    decoder_emb_inp = decoderNetwork.decoder_embedding(decoder_input)\n",
    "\n",
    "    decoder_instance = tfa.seq2seq.BasicDecoder(cell = decoderNetwork.rnn_cell, \n",
    "                                                sampler = greedy_sampler,\n",
    "                                                output_layer = decoderNetwork.dense_layer)\n",
    "    decoderNetwork.attention_mechanism.setup_memory(a)\n",
    "\n",
    "    decoder_initial_state = decoderNetwork.build_decoder_initial_state(\n",
    "        inference_batch_size, encoder_state=[a_tx, c_tx], Dtype=tf.float32)\n",
    "\n",
    "    maximum_iterations = tf.round(tf.reduce_max(Tx) * 2)\n",
    "\n",
    "    decoder_embedding_matrix = decoderNetwork.decoder_embedding.variables[0] \n",
    "    (first_finished, first_inputs,first_state) = decoder_instance.initialize(\n",
    "        decoder_embedding_matrix, start_tokens = start_tokens,\n",
    "        end_token = end_token, initial_state = decoder_initial_state)\n",
    "\n",
    "    inputs = first_inputs\n",
    "    state = first_state  \n",
    "    predictions = np.empty((inference_batch_size,0), dtype = np.int32)                                                              \n",
    "    for j in range(maximum_iterations):\n",
    "        outputs, next_state, next_inputs, finished = decoder_instance.step(j, inputs,state)\n",
    "        inputs = next_inputs\n",
    "        state = next_state\n",
    "        outputs = np.expand_dims(outputs.sample_id,axis = -1)\n",
    "        predictions = np.append(predictions, outputs, axis = -1)\n",
    "        \n",
    "    res = ''\n",
    "    for i in range(len(predictions)):\n",
    "        line = predictions[i,:]\n",
    "        seq = list(itertools.takewhile(lambda index: index !=2, line))\n",
    "        res += \" \".join( [jp_tokenizer.index_word[w] for w in seq])\n",
    "    res = res.split()\n",
    "    \n",
    "    # Return back Unique words\n",
    "    for i in range(len(res)):\n",
    "        if res[i] == 'unk' and unique != []:\n",
    "            res[i] = unique.pop(0)\n",
    "    \n",
    "    return ' '.join(res)\n",
    "\n",
    "# Calculate BLEU\n",
    "def BLEU(X, y):\n",
    "    # Prediction\n",
    "    pred = [Translate(w) for w in tqdm(X)]\n",
    "    # Calculate BLEU \n",
    "    score = sacrebleu.corpus_bleu(pred, [y]).score / 100\n",
    "    return score, pred"
   ]
  },
  {
   "cell_type": "code",
   "execution_count": 31,
   "metadata": {
    "execution": {
     "iopub.execute_input": "2020-08-19T01:55:30.694065Z",
     "iopub.status.busy": "2020-08-19T01:55:30.688666Z",
     "iopub.status.idle": "2020-08-19T01:55:30.696413Z",
     "shell.execute_reply": "2020-08-19T01:55:30.696969Z"
    },
    "papermill": {
     "duration": 0.037721,
     "end_time": "2020-08-19T01:55:30.697098",
     "exception": false,
     "start_time": "2020-08-19T01:55:30.659377",
     "status": "completed"
    },
    "tags": []
   },
   "outputs": [],
   "source": [
    "# Custom Train Progress\n",
    "class Progress:\n",
    "    def __init__(self):\n",
    "        self.fig = plt.figure(figsize = (8,6))\n",
    "        self.ax = self.fig.add_subplot(1, 1, 1)\n",
    "        self.loss, self.val_loss, self.BLEU = [], [], []\n",
    "        self.epoch_loss = 0\n",
    "        \n",
    "    def get_val_loss(self):\n",
    "        return [x[1] for x in self.val_loss]\n",
    "        \n",
    "    # Plot\n",
    "    def dynamic_plot(self):\n",
    "        self.ax.cla()\n",
    "        self.ax.plot(range(len(self.loss)), self.loss, label='loss')\n",
    "        if len(self.val_loss) >= 1:\n",
    "            x = [l[0] for l in self.val_loss]\n",
    "            y = [l[1] for l in self.val_loss]\n",
    "            self.ax.plot(x, y, color = 'r', label='val_loss')\n",
    "            self.ax.plot(x, self.BLEU, color = 'purple', label='BLEU')\n",
    "        self.ax.set_ylim(0,)\n",
    "        self.ax.legend(loc = 1)\n",
    "        display(self.fig)\n",
    "    \n",
    "    # Train step progress\n",
    "    def train_progress(self, epoch, step, steps_per_epoch, start):\n",
    "        self.dynamic_plot()\n",
    "        print(f'Working on Epoch {epoch}')\n",
    "        print('[' + ('=' * int((step + 1) / steps_per_epoch * 60)).ljust(61, ' ') \n",
    "              + f']  {step + 1}/{steps_per_epoch} - loss : {round(self.epoch_loss / step, 4)}')\n",
    "        print(f'Time per Step {round(timeit.default_timer() - start, 2)} s')\n",
    "        \n",
    "    def summary(self):\n",
    "        loss = np.array_split(np.array(self.loss), len(self.val_loss))\n",
    "        loss = [np.mean(x) for x in loss]\n",
    "        val_loss = [x[1] for x in self.val_loss]\n",
    "        df = pd.DataFrame({'Epochs' : range(1, len(val_loss) + 1), 'loss' : loss,\n",
    "                           'val loss' : val_loss, 'BLEU' : self.BLEU})\n",
    "        \n",
    "        self.dynamic_plot()\n",
    "        clear_output(wait = True)\n",
    "        display(df)"
   ]
  },
  {
   "cell_type": "code",
   "execution_count": 32,
   "metadata": {
    "execution": {
     "iopub.execute_input": "2020-08-19T01:55:30.749528Z",
     "iopub.status.busy": "2020-08-19T01:55:30.744235Z",
     "iopub.status.idle": "2020-08-19T04:20:54.806574Z",
     "shell.execute_reply": "2020-08-19T04:20:54.807028Z"
    },
    "papermill": {
     "duration": 8724.093717,
     "end_time": "2020-08-19T04:20:54.807198",
     "exception": false,
     "start_time": "2020-08-19T01:55:30.713481",
     "status": "completed"
    },
    "tags": []
   },
   "outputs": [
    {
     "data": {
      "text/html": [
       "<div>\n",
       "<style scoped>\n",
       "    .dataframe tbody tr th:only-of-type {\n",
       "        vertical-align: middle;\n",
       "    }\n",
       "\n",
       "    .dataframe tbody tr th {\n",
       "        vertical-align: top;\n",
       "    }\n",
       "\n",
       "    .dataframe thead th {\n",
       "        text-align: right;\n",
       "    }\n",
       "</style>\n",
       "<table border=\"1\" class=\"dataframe\">\n",
       "  <thead>\n",
       "    <tr style=\"text-align: right;\">\n",
       "      <th></th>\n",
       "      <th>Epochs</th>\n",
       "      <th>loss</th>\n",
       "      <th>val loss</th>\n",
       "      <th>BLEU</th>\n",
       "    </tr>\n",
       "  </thead>\n",
       "  <tbody>\n",
       "    <tr>\n",
       "      <th>0</th>\n",
       "      <td>1</td>\n",
       "      <td>0.755007</td>\n",
       "      <td>0.617767</td>\n",
       "      <td>0.033657</td>\n",
       "    </tr>\n",
       "    <tr>\n",
       "      <th>1</th>\n",
       "      <td>2</td>\n",
       "      <td>0.507803</td>\n",
       "      <td>0.467358</td>\n",
       "      <td>0.100527</td>\n",
       "    </tr>\n",
       "    <tr>\n",
       "      <th>2</th>\n",
       "      <td>3</td>\n",
       "      <td>0.366943</td>\n",
       "      <td>0.404535</td>\n",
       "      <td>0.169416</td>\n",
       "    </tr>\n",
       "    <tr>\n",
       "      <th>3</th>\n",
       "      <td>4</td>\n",
       "      <td>0.278531</td>\n",
       "      <td>0.382699</td>\n",
       "      <td>0.206622</td>\n",
       "    </tr>\n",
       "    <tr>\n",
       "      <th>4</th>\n",
       "      <td>5</td>\n",
       "      <td>0.220114</td>\n",
       "      <td>0.379538</td>\n",
       "      <td>0.223136</td>\n",
       "    </tr>\n",
       "    <tr>\n",
       "      <th>5</th>\n",
       "      <td>6</td>\n",
       "      <td>0.180076</td>\n",
       "      <td>0.384533</td>\n",
       "      <td>0.240543</td>\n",
       "    </tr>\n",
       "    <tr>\n",
       "      <th>6</th>\n",
       "      <td>7</td>\n",
       "      <td>0.152284</td>\n",
       "      <td>0.390775</td>\n",
       "      <td>0.256055</td>\n",
       "    </tr>\n",
       "  </tbody>\n",
       "</table>\n",
       "</div>"
      ],
      "text/plain": [
       "   Epochs      loss  val loss      BLEU\n",
       "0       1  0.755007  0.617767  0.033657\n",
       "1       2  0.507803  0.467358  0.100527\n",
       "2       3  0.366943  0.404535  0.169416\n",
       "3       4  0.278531  0.382699  0.206622\n",
       "4       5  0.220114  0.379538  0.223136\n",
       "5       6  0.180076  0.384533  0.240543\n",
       "6       7  0.152284  0.390775  0.256055"
      ]
     },
     "metadata": {},
     "output_type": "display_data"
    },
    {
     "data": {
      "image/png": "[encoded data removed]",
      "text/plain": [
       "<Figure size 576x432 with 1 Axes>"
      ]
     },
     "metadata": {
      "needs_background": "light"
     },
     "output_type": "display_data"
    }
   ],
   "source": [
    "# Initialize Train Progress\n",
    "TP = Progress()\n",
    "best_prediction = []\n",
    "\n",
    "for i in range(1, epochs + 1):\n",
    "\n",
    "    encoder_initial_cell_state = initialize_initial_state()\n",
    "    total_loss = 0.0\n",
    "    # Train Loss\n",
    "    TP.epoch_loss = 0\n",
    "\n",
    "    # Train\n",
    "    for (batch , (input_batch, output_batch)) in enumerate(dataset.take(steps_per_epoch)):\n",
    "        start = timeit.default_timer()\n",
    "        batch_loss = train_step(input_batch, output_batch, encoder_initial_cell_state)\n",
    "        total_loss += batch_loss\n",
    "        TP.loss.append(batch_loss.numpy())\n",
    "        TP.epoch_loss += batch_loss.numpy()\n",
    "            \n",
    "        if (batch+1) % 30 == 0:\n",
    "            TP.train_progress(i, batch, steps_per_epoch, start)\n",
    "            clear_output(wait = True)\n",
    "    \n",
    "    # Validitate\n",
    "    encoderNetwork.trainable = False  # Freeze our model layer to make sure\n",
    "    decoderNetwork.trainable = False  # it didn't learn anything from val_data\n",
    "    \n",
    "    # Valid loss\n",
    "    val_loss = 0\n",
    "    for (batch, (input_batch, output_batch)) in enumerate(val_dataset.take(val_steps_per_epoch)):\n",
    "        batch_loss = evaluate(input_batch, output_batch, encoder_initial_cell_state)\n",
    "        val_loss += batch_loss.numpy()\n",
    "    val_loss /= val_steps_per_epoch\n",
    "    \n",
    "    TP.val_loss.append((i * steps_per_epoch - 1, val_loss))\n",
    "    \n",
    "    # Bleu Score\n",
    "    bleu_score, pred = BLEU(eng_test, jpn_test)\n",
    "    TP.BLEU.append(bleu_score)\n",
    "    \n",
    "    encoderNetwork.trainable = True  # Unfreeze layer for next epoch\n",
    "    decoderNetwork.trainable = True\n",
    "    \n",
    "    # Save best model\n",
    "    if bleu_score == max(TP.BLEU) and val_loss == min(TP.get_val_loss()):\n",
    "        best_prediction = pred\n",
    "        encoderNetwork.save_weights('encoderNetwork')\n",
    "        decoderNetwork.save_weights('decoderNetwork')\n",
    "\n",
    "TP.summary()"
   ]
  },
  {
   "cell_type": "code",
   "execution_count": 33,
   "metadata": {
    "execution": {
     "iopub.execute_input": "2020-08-19T04:20:54.857993Z",
     "iopub.status.busy": "2020-08-19T04:20:54.857206Z",
     "iopub.status.idle": "2020-08-19T04:20:55.026390Z",
     "shell.execute_reply": "2020-08-19T04:20:55.025876Z"
    },
    "papermill": {
     "duration": 0.200965,
     "end_time": "2020-08-19T04:20:55.026523",
     "exception": false,
     "start_time": "2020-08-19T04:20:54.825558",
     "status": "completed"
    },
    "tags": []
   },
   "outputs": [
    {
     "data": {
      "text/plain": [
       "<tensorflow.python.training.tracking.util.CheckpointLoadStatus at 0x7fb3601083d0>"
      ]
     },
     "execution_count": 33,
     "metadata": {},
     "output_type": "execute_result"
    }
   ],
   "source": [
    "# Load best weights\n",
    "encoderNetwork.load_weights('encoderNetwork')\n",
    "decoderNetwork.load_weights('decoderNetwork')"
   ]
  },
  {
   "cell_type": "markdown",
   "metadata": {
    "papermill": {
     "duration": 0.017383,
     "end_time": "2020-08-19T04:20:55.062014",
     "exception": false,
     "start_time": "2020-08-19T04:20:55.044631",
     "status": "completed"
    },
    "tags": []
   },
   "source": [
    "Let's check the best prediction of our model."
   ]
  },
  {
   "cell_type": "code",
   "execution_count": 34,
   "metadata": {
    "execution": {
     "iopub.execute_input": "2020-08-19T04:20:55.105457Z",
     "iopub.status.busy": "2020-08-19T04:20:55.104418Z",
     "iopub.status.idle": "2020-08-19T04:20:55.119162Z",
     "shell.execute_reply": "2020-08-19T04:20:55.118331Z"
    },
    "papermill": {
     "duration": 0.039796,
     "end_time": "2020-08-19T04:20:55.119315",
     "exception": false,
     "start_time": "2020-08-19T04:20:55.079519",
     "status": "completed"
    },
    "tags": []
   },
   "outputs": [
    {
     "name": "stdout",
     "output_type": "stream",
     "text": [
      "English Sentence:\n",
      "in september there are just a few people here and there on the beach\n",
      "\n",
      "Japanese Translation:\n",
      "９ 時 に は ここ に 他 の 人 が 住ん で い ない 人 が その ビーチ で 他 の 人達 が 残り の もと を あちら に 建設 見 た\n",
      "\n",
      "Japanese Reference:\n",
      "９月 の 海 は 人 が まばら だ ね\n",
      "------------------------------------------------------------\n",
      "English Sentence:\n",
      "while you are young you should read a lot\n",
      "\n",
      "Japanese Translation:\n",
      "若い 頃 は 読み 終わっ たら いい よ\n",
      "\n",
      "Japanese Reference:\n",
      "若い うち に たくさん の 本 を 読む べき だ\n",
      "------------------------------------------------------------\n",
      "English Sentence:\n",
      "here i come\n",
      "\n",
      "Japanese Translation:\n",
      "ここ に 来 た の\n",
      "\n",
      "Japanese Reference:\n",
      "いま 行き ます\n",
      "------------------------------------------------------------\n",
      "English Sentence:\n",
      "once you have decided when you will be coming let me know\n",
      "\n",
      "Japanese Translation:\n",
      "来る か 君 に は 連絡 を 言っ て き た よ\n",
      "\n",
      "Japanese Reference:\n",
      "いつ 来る か 決まっ たら 教え て\n",
      "------------------------------------------------------------\n",
      "English Sentence:\n",
      "he jumped on the train\n",
      "\n",
      "Japanese Translation:\n",
      "彼 は 電車 に 旗 を 飛び越え た\n",
      "\n",
      "Japanese Reference:\n",
      "彼 は 電車 に 飛び乗っ た\n",
      "------------------------------------------------------------\n",
      "English Sentence:\n",
      "he passed away yesterday\n",
      "\n",
      "Japanese Translation:\n",
      "彼 は 昨日 亡くなっ た\n",
      "\n",
      "Japanese Reference:\n",
      "彼 は 昨日 お 亡くなり に なり まし た\n",
      "------------------------------------------------------------\n",
      "English Sentence:\n",
      "i had no other choice\n",
      "\n",
      "Japanese Translation:\n",
      "他 に 選択肢 が なかっ た\n",
      "\n",
      "Japanese Reference:\n",
      "他 に 手 が なかっ た の だ\n",
      "------------------------------------------------------------\n",
      "English Sentence:\n",
      "are you good at bowling\n",
      "\n",
      "Japanese Translation:\n",
      "ボーリング は 得意 です か\n",
      "\n",
      "Japanese Reference:\n",
      "ボウリング は 得意\n",
      "------------------------------------------------------------\n",
      "English Sentence:\n",
      "it is strange that you do not know anything about that matter\n",
      "\n",
      "Japanese Translation:\n",
      "それ について 何 も 知ら ない こと が ない という こと は 変 だ\n",
      "\n",
      "Japanese Reference:\n",
      "あなた が その こと について 何 も 知ら ない の は 変 だ\n",
      "------------------------------------------------------------\n"
     ]
    }
   ],
   "source": [
    "for i in range(7,16):\n",
    "    print(\"English Sentence:\")\n",
    "    print(eng_test[i])\n",
    "    print(\"\\nJapanese Translation:\")\n",
    "    print(best_prediction[i])\n",
    "    print(\"\\nJapanese Reference:\")\n",
    "    print(jpn_test[i])\n",
    "    print(''.ljust(60, '-'))"
   ]
  },
  {
   "cell_type": "markdown",
   "metadata": {
    "papermill": {
     "duration": 0.017512,
     "end_time": "2020-08-19T04:20:55.156454",
     "exception": false,
     "start_time": "2020-08-19T04:20:55.138942",
     "status": "completed"
    },
    "tags": []
   },
   "source": [
    "# Test with Some Raw Input\n",
    "Yeay now let's play with **our** Machine Translation with some raw input. We'll cross check the prediction from MT with Google Translate API to translate it back to english and see how bad **our** MT is :)."
   ]
  },
  {
   "cell_type": "code",
   "execution_count": 35,
   "metadata": {
    "execution": {
     "iopub.execute_input": "2020-08-19T04:20:55.196849Z",
     "iopub.status.busy": "2020-08-19T04:20:55.195526Z",
     "iopub.status.idle": "2020-08-19T04:20:55.655632Z",
     "shell.execute_reply": "2020-08-19T04:20:55.656411Z"
    },
    "papermill": {
     "duration": 0.482168,
     "end_time": "2020-08-19T04:20:55.656640",
     "exception": false,
     "start_time": "2020-08-19T04:20:55.174472",
     "status": "completed"
    },
    "tags": []
   },
   "outputs": [],
   "source": [
    "from googletrans import Translator\n",
    "# Google Translate\n",
    "translator = Translator()"
   ]
  },
  {
   "cell_type": "code",
   "execution_count": 36,
   "metadata": {
    "execution": {
     "iopub.execute_input": "2020-08-19T04:20:55.730029Z",
     "iopub.status.busy": "2020-08-19T04:20:55.729179Z",
     "iopub.status.idle": "2020-08-19T04:20:58.458588Z",
     "shell.execute_reply": "2020-08-19T04:20:58.458075Z"
    },
    "papermill": {
     "duration": 2.773276,
     "end_time": "2020-08-19T04:20:58.458701",
     "exception": false,
     "start_time": "2020-08-19T04:20:55.685425",
     "status": "completed"
    },
    "tags": []
   },
   "outputs": [
    {
     "name": "stdout",
     "output_type": "stream",
     "text": [
      "English Sentence:\n",
      "i love you\n",
      "\n",
      "Japanese Translation:\n",
      "愛し てる よ\n",
      "\n",
      "English Translation from prediction [GoogleTranslate]:\n",
      "I love you\n",
      "------------------------------------------------------------\n",
      "English Sentence:\n",
      "i am sorry\n",
      "\n",
      "Japanese Translation:\n",
      "すみません\n",
      "\n",
      "English Translation from prediction [GoogleTranslate]:\n",
      "Excuse me\n",
      "------------------------------------------------------------\n",
      "English Sentence:\n",
      "hello\n",
      "\n",
      "Japanese Translation:\n",
      "もしもし\n",
      "\n",
      "English Translation from prediction [GoogleTranslate]:\n",
      "Hello\n",
      "------------------------------------------------------------\n",
      "English Sentence:\n",
      "thank you\n",
      "\n",
      "Japanese Translation:\n",
      "ありがとう ござい ます\n",
      "\n",
      "English Translation from prediction [GoogleTranslate]:\n",
      "Thank you\n",
      "------------------------------------------------------------\n",
      "English Sentence:\n",
      "is there something i can help?\n",
      "\n",
      "Japanese Translation:\n",
      "何 か 手伝える もの が ある の\n",
      "\n",
      "English Translation from prediction [GoogleTranslate]:\n",
      "There is something to help\n",
      "------------------------------------------------------------\n"
     ]
    }
   ],
   "source": [
    "raw_input = ['i love you', 'i am sorry', 'hello', 'thank you',\n",
    "             'is there something i can help?']\n",
    "\n",
    "for i in range(len(raw_input)):\n",
    "    prediction = Translate(raw_input[i])\n",
    "    print(\"English Sentence:\")\n",
    "    print(raw_input[i])\n",
    "    print(\"\\nJapanese Translation:\")\n",
    "    print(prediction)\n",
    "    print(\"\\nEnglish Translation from prediction [GoogleTranslate]:\")\n",
    "    print(translator.translate(prediction).text)\n",
    "    print(''.ljust(60, '-'))"
   ]
  },
  {
   "cell_type": "code",
   "execution_count": 37,
   "metadata": {
    "_kg_hide-input": true,
    "_kg_hide-output": true,
    "execution": {
     "iopub.execute_input": "2020-08-19T04:20:58.508351Z",
     "iopub.status.busy": "2020-08-19T04:20:58.503923Z",
     "iopub.status.idle": "2020-08-19T04:20:58.534025Z",
     "shell.execute_reply": "2020-08-19T04:20:58.535087Z"
    },
    "papermill": {
     "duration": 0.057322,
     "end_time": "2020-08-19T04:20:58.535255",
     "exception": false,
     "start_time": "2020-08-19T04:20:58.477933",
     "status": "completed"
    },
    "tags": []
   },
   "outputs": [],
   "source": [
    "import pickle\n",
    "\n",
    "with open('en_tokenizer.pickle', 'wb') as handle:\n",
    "    pickle.dump(en_tokenizer, handle, protocol=pickle.HIGHEST_PROTOCOL)\n",
    "handle.close()\n",
    "\n",
    "with open('jp_tokenizer.pickle', 'wb') as handle:\n",
    "    pickle.dump(jp_tokenizer, handle, protocol=pickle.HIGHEST_PROTOCOL)\n",
    "handle.close()"
   ]
  },
  {
   "cell_type": "markdown",
   "metadata": {
    "papermill": {
     "duration": 0.01806,
     "end_time": "2020-08-19T04:20:58.576013",
     "exception": false,
     "start_time": "2020-08-19T04:20:58.557953",
     "status": "completed"
    },
    "tags": []
   },
   "source": [
    "## Thank you very much for reading my post\n",
    "Please tell me when I make mistakes in program and English.\n",
    "I hope this kernel will help and if you think this kernel is useful, please upvote."
   ]
  },
  {
   "cell_type": "markdown",
   "metadata": {
    "papermill": {
     "duration": 0.02547,
     "end_time": "2020-08-19T04:20:58.627823",
     "exception": false,
     "start_time": "2020-08-19T04:20:58.602353",
     "status": "completed"
    },
    "tags": []
   },
   "source": [
    "# Reference\n",
    "1. TensorFlow Addons Networks : Sequence-to-Sequence NMT with Attention Mechanism [Link](https://www.tensorflow.org/addons/tutorials/networks_seq2seq_nmt)\n",
    "2. seq2seq (Sequence to Sequence) Model for Deep Learning with PyTorch [Link](https://www.guru99.com/seq2seq-model.html)"
   ]
  }
 ],
 "metadata": {
  "kernelspec": {
   "display_name": "Python 3",
   "language": "python",
   "name": "python3"
  },
  "language_info": {
   "codemirror_mode": {
    "name": "ipython",
    "version": 3
   },
   "file_extension": ".py",
   "mimetype": "text/x-python",
   "name": "python",
   "nbconvert_exporter": "python",
   "pygments_lexer": "ipython3",
   "version": "3.7.6"
  },
  "papermill": {
   "duration": 8967.579017,
   "end_time": "2020-08-19T04:21:00.719742",
   "environment_variables": {},
   "exception": null,
   "input_path": "__notebook__.ipynb",
   "output_path": "__notebook__.ipynb",
   "parameters": {},
   "start_time": "2020-08-19T01:51:33.140725",
   "version": "2.1.0"
  },
  "widgets": {
   "application/vnd.jupyter.widget-state+json": {
    "state": {
     "011006e6499642fdbdfdc81e2297f7fe": {
      "model_module": "@jupyter-widgets/base",
      "model_module_version": "1.2.0",
      "model_name": "LayoutModel",
      "state": {
       "_model_module": "@jupyter-widgets/base",
       "_model_module_version": "1.2.0",
       "_model_name": "LayoutModel",
       "_view_count": null,
       "_view_module": "@jupyter-widgets/base",
       "_view_module_version": "1.2.0",
       "_view_name": "LayoutView",
       "align_content": null,
       "align_items": null,
       "align_self": null,
       "border": null,
       "bottom": null,
       "display": null,
       "flex": null,
       "flex_flow": null,
       "grid_area": null,
       "grid_auto_columns": null,
       "grid_auto_flow": null,
       "grid_auto_rows": null,
       "grid_column": null,
       "grid_gap": null,
       "grid_row": null,
       "grid_template_areas": null,
       "grid_template_columns": null,
       "grid_template_rows": null,
       "height": null,
       "justify_content": null,
       "justify_items": null,
       "left": null,
       "margin": null,
       "max_height": null,
       "max_width": null,
       "min_height": null,
       "min_width": null,
       "object_fit": null,
       "object_position": null,
       "order": null,
       "overflow": null,
       "overflow_x": null,
       "overflow_y": null,
       "padding": null,
       "right": null,
       "top": null,
       "visibility": null,
       "width": null
      }
     },
     "0123acede48f42cd931f7cce0ff0ac43": {
      "model_module": "@jupyter-widgets/base",
      "model_module_version": "1.2.0",
      "model_name": "LayoutModel",
      "state": {
       "_model_module": "@jupyter-widgets/base",
       "_model_module_version": "1.2.0",
       "_model_name": "LayoutModel",
       "_view_count": null,
       "_view_module": "@jupyter-widgets/base",
       "_view_module_version": "1.2.0",
       "_view_name": "LayoutView",
       "align_content": null,
       "align_items": null,
       "align_self": null,
       "border": null,
       "bottom": null,
       "display": null,
       "flex": null,
       "flex_flow": null,
       "grid_area": null,
       "grid_auto_columns": null,
       "grid_auto_flow": null,
       "grid_auto_rows": null,
       "grid_column": null,
       "grid_gap": null,
       "grid_row": null,
       "grid_template_areas": null,
       "grid_template_columns": null,
       "grid_template_rows": null,
       "height": null,
       "justify_content": null,
       "justify_items": null,
       "left": null,
       "margin": null,
       "max_height": null,
       "max_width": null,
       "min_height": null,
       "min_width": null,
       "object_fit": null,
       "object_position": null,
       "order": null,
       "overflow": null,
       "overflow_x": null,
       "overflow_y": null,
       "padding": null,
       "right": null,
       "top": null,
       "visibility": null,
       "width": null
      }
     },
     "02c171da76ae498895760bdb40795176": {
      "model_module": "@jupyter-widgets/controls",
      "model_module_version": "1.5.0",
      "model_name": "ProgressStyleModel",
      "state": {
       "_model_module": "@jupyter-widgets/controls",
       "_model_module_version": "1.5.0",
       "_model_name": "ProgressStyleModel",
       "_view_count": null,
       "_view_module": "@jupyter-widgets/base",
       "_view_module_version": "1.2.0",
       "_view_name": "StyleView",
       "bar_color": null,
       "description_width": "initial"
      }
     },
     "0324078e522b4547ab947ccee81a3cee": {
      "model_module": "@jupyter-widgets/controls",
      "model_module_version": "1.5.0",
      "model_name": "ProgressStyleModel",
      "state": {
       "_model_module": "@jupyter-widgets/controls",
       "_model_module_version": "1.5.0",
       "_model_name": "ProgressStyleModel",
       "_view_count": null,
       "_view_module": "@jupyter-widgets/base",
       "_view_module_version": "1.2.0",
       "_view_name": "StyleView",
       "bar_color": null,
       "description_width": "initial"
      }
     },
     "065308d980fd45b09a78932fc1dd881f": {
      "model_module": "@jupyter-widgets/controls",
      "model_module_version": "1.5.0",
      "model_name": "ProgressStyleModel",
      "state": {
       "_model_module": "@jupyter-widgets/controls",
       "_model_module_version": "1.5.0",
       "_model_name": "ProgressStyleModel",
       "_view_count": null,
       "_view_module": "@jupyter-widgets/base",
       "_view_module_version": "1.2.0",
       "_view_name": "StyleView",
       "bar_color": null,
       "description_width": "initial"
      }
     },
     "0b7439e0717144c998ffc79db8aa0482": {
      "model_module": "@jupyter-widgets/controls",
      "model_module_version": "1.5.0",
      "model_name": "ProgressStyleModel",
      "state": {
       "_model_module": "@jupyter-widgets/controls",
       "_model_module_version": "1.5.0",
       "_model_name": "ProgressStyleModel",
       "_view_count": null,
       "_view_module": "@jupyter-widgets/base",
       "_view_module_version": "1.2.0",
       "_view_name": "StyleView",
       "bar_color": null,
       "description_width": "initial"
      }
     },
     "0f35e9a84b8942be8f51d50b1e91d599": {
      "model_module": "@jupyter-widgets/controls",
      "model_module_version": "1.5.0",
      "model_name": "HBoxModel",
      "state": {
       "_dom_classes": [],
       "_model_module": "@jupyter-widgets/controls",
       "_model_module_version": "1.5.0",
       "_model_name": "HBoxModel",
       "_view_count": null,
       "_view_module": "@jupyter-widgets/controls",
       "_view_module_version": "1.5.0",
       "_view_name": "HBoxView",
       "box_style": "",
       "children": [
        "IPY_MODEL_3d851dc150e941d3b7929ea2ae584639",
        "IPY_MODEL_245757c906d846e5bd79064a6670d1a2"
       ],
       "layout": "IPY_MODEL_36741489a786414fbef38a6ef4c57feb"
      }
     },
     "100818a2933b46bd84e89d599e791ef3": {
      "model_module": "@jupyter-widgets/base",
      "model_module_version": "1.2.0",
      "model_name": "LayoutModel",
      "state": {
       "_model_module": "@jupyter-widgets/base",
       "_model_module_version": "1.2.0",
       "_model_name": "LayoutModel",
       "_view_count": null,
       "_view_module": "@jupyter-widgets/base",
       "_view_module_version": "1.2.0",
       "_view_name": "LayoutView",
       "align_content": null,
       "align_items": null,
       "align_self": null,
       "border": null,
       "bottom": null,
       "display": null,
       "flex": null,
       "flex_flow": null,
       "grid_area": null,
       "grid_auto_columns": null,
       "grid_auto_flow": null,
       "grid_auto_rows": null,
       "grid_column": null,
       "grid_gap": null,
       "grid_row": null,
       "grid_template_areas": null,
       "grid_template_columns": null,
       "grid_template_rows": null,
       "height": null,
       "justify_content": null,
       "justify_items": null,
       "left": null,
       "margin": null,
       "max_height": null,
       "max_width": null,
       "min_height": null,
       "min_width": null,
       "object_fit": null,
       "object_position": null,
       "order": null,
       "overflow": null,
       "overflow_x": null,
       "overflow_y": null,
       "padding": null,
       "right": null,
       "top": null,
       "visibility": null,
       "width": null
      }
     },
     "107bd33db380498796db13775d0b4c10": {
      "model_module": "@jupyter-widgets/base",
      "model_module_version": "1.2.0",
      "model_name": "LayoutModel",
      "state": {
       "_model_module": "@jupyter-widgets/base",
       "_model_module_version": "1.2.0",
       "_model_name": "LayoutModel",
       "_view_count": null,
       "_view_module": "@jupyter-widgets/base",
       "_view_module_version": "1.2.0",
       "_view_name": "LayoutView",
       "align_content": null,
       "align_items": null,
       "align_self": null,
       "border": null,
       "bottom": null,
       "display": null,
       "flex": null,
       "flex_flow": null,
       "grid_area": null,
       "grid_auto_columns": null,
       "grid_auto_flow": null,
       "grid_auto_rows": null,
       "grid_column": null,
       "grid_gap": null,
       "grid_row": null,
       "grid_template_areas": null,
       "grid_template_columns": null,
       "grid_template_rows": null,
       "height": null,
       "justify_content": null,
       "justify_items": null,
       "left": null,
       "margin": null,
       "max_height": null,
       "max_width": null,
       "min_height": null,
       "min_width": null,
       "object_fit": null,
       "object_position": null,
       "order": null,
       "overflow": null,
       "overflow_x": null,
       "overflow_y": null,
       "padding": null,
       "right": null,
       "top": null,
       "visibility": null,
       "width": null
      }
     },
     "1197d432022e420bbb5e692492e9e621": {
      "model_module": "@jupyter-widgets/controls",
      "model_module_version": "1.5.0",
      "model_name": "DescriptionStyleModel",
      "state": {
       "_model_module": "@jupyter-widgets/controls",
       "_model_module_version": "1.5.0",
       "_model_name": "DescriptionStyleModel",
       "_view_count": null,
       "_view_module": "@jupyter-widgets/base",
       "_view_module_version": "1.2.0",
       "_view_name": "StyleView",
       "description_width": ""
      }
     },
     "13113632bec44fe88a93c80872ede614": {
      "model_module": "@jupyter-widgets/base",
      "model_module_version": "1.2.0",
      "model_name": "LayoutModel",
      "state": {
       "_model_module": "@jupyter-widgets/base",
       "_model_module_version": "1.2.0",
       "_model_name": "LayoutModel",
       "_view_count": null,
       "_view_module": "@jupyter-widgets/base",
       "_view_module_version": "1.2.0",
       "_view_name": "LayoutView",
       "align_content": null,
       "align_items": null,
       "align_self": null,
       "border": null,
       "bottom": null,
       "display": null,
       "flex": null,
       "flex_flow": null,
       "grid_area": null,
       "grid_auto_columns": null,
       "grid_auto_flow": null,
       "grid_auto_rows": null,
       "grid_column": null,
       "grid_gap": null,
       "grid_row": null,
       "grid_template_areas": null,
       "grid_template_columns": null,
       "grid_template_rows": null,
       "height": null,
       "justify_content": null,
       "justify_items": null,
       "left": null,
       "margin": null,
       "max_height": null,
       "max_width": null,
       "min_height": null,
       "min_width": null,
       "object_fit": null,
       "object_position": null,
       "order": null,
       "overflow": null,
       "overflow_x": null,
       "overflow_y": null,
       "padding": null,
       "right": null,
       "top": null,
       "visibility": null,
       "width": null
      }
     },
     "1f655716c2e744bd9378e1ed510cfc54": {
      "model_module": "@jupyter-widgets/controls",
      "model_module_version": "1.5.0",
      "model_name": "ProgressStyleModel",
      "state": {
       "_model_module": "@jupyter-widgets/controls",
       "_model_module_version": "1.5.0",
       "_model_name": "ProgressStyleModel",
       "_view_count": null,
       "_view_module": "@jupyter-widgets/base",
       "_view_module_version": "1.2.0",
       "_view_name": "StyleView",
       "bar_color": null,
       "description_width": "initial"
      }
     },
     "1fa21c754c8341f8bfd950bcc3de4d3e": {
      "model_module": "@jupyter-widgets/controls",
      "model_module_version": "1.5.0",
      "model_name": "HTMLModel",
      "state": {
       "_dom_classes": [],
       "_model_module": "@jupyter-widgets/controls",
       "_model_module_version": "1.5.0",
       "_model_name": "HTMLModel",
       "_view_count": null,
       "_view_module": "@jupyter-widgets/controls",
       "_view_module_version": "1.5.0",
       "_view_name": "HTMLView",
       "description": "",
       "description_tooltip": null,
       "layout": "IPY_MODEL_9d9831ee58ee4fbab973ce966e22d473",
       "placeholder": "​",
       "style": "IPY_MODEL_a3955f6a505342ef9530fc0df21bfca1",
       "value": " 2144/2144 [15:49&lt;00:00,  2.26it/s]"
      }
     },
     "22394f61b02b463aae86f367878574d6": {
      "model_module": "@jupyter-widgets/base",
      "model_module_version": "1.2.0",
      "model_name": "LayoutModel",
      "state": {
       "_model_module": "@jupyter-widgets/base",
       "_model_module_version": "1.2.0",
       "_model_name": "LayoutModel",
       "_view_count": null,
       "_view_module": "@jupyter-widgets/base",
       "_view_module_version": "1.2.0",
       "_view_name": "LayoutView",
       "align_content": null,
       "align_items": null,
       "align_self": null,
       "border": null,
       "bottom": null,
       "display": null,
       "flex": null,
       "flex_flow": null,
       "grid_area": null,
       "grid_auto_columns": null,
       "grid_auto_flow": null,
       "grid_auto_rows": null,
       "grid_column": null,
       "grid_gap": null,
       "grid_row": null,
       "grid_template_areas": null,
       "grid_template_columns": null,
       "grid_template_rows": null,
       "height": null,
       "justify_content": null,
       "justify_items": null,
       "left": null,
       "margin": null,
       "max_height": null,
       "max_width": null,
       "min_height": null,
       "min_width": null,
       "object_fit": null,
       "object_position": null,
       "order": null,
       "overflow": null,
       "overflow_x": null,
       "overflow_y": null,
       "padding": null,
       "right": null,
       "top": null,
       "visibility": null,
       "width": null
      }
     },
     "245757c906d846e5bd79064a6670d1a2": {
      "model_module": "@jupyter-widgets/controls",
      "model_module_version": "1.5.0",
      "model_name": "HTMLModel",
      "state": {
       "_dom_classes": [],
       "_model_module": "@jupyter-widgets/controls",
       "_model_module_version": "1.5.0",
       "_model_name": "HTMLModel",
       "_view_count": null,
       "_view_module": "@jupyter-widgets/controls",
       "_view_module_version": "1.5.0",
       "_view_name": "HTMLView",
       "description": "",
       "description_tooltip": null,
       "layout": "IPY_MODEL_3fdd48950db04c3fa2431a7457387aa0",
       "placeholder": "​",
       "style": "IPY_MODEL_b67293801f7044d7853596d49b500278",
       "value": " 53594/53594 [02:48&lt;00:00, 317.52it/s]"
      }
     },
     "2deb9914420749af909516f7653a6d6a": {
      "model_module": "@jupyter-widgets/controls",
      "model_module_version": "1.5.0",
      "model_name": "DescriptionStyleModel",
      "state": {
       "_model_module": "@jupyter-widgets/controls",
       "_model_module_version": "1.5.0",
       "_model_name": "DescriptionStyleModel",
       "_view_count": null,
       "_view_module": "@jupyter-widgets/base",
       "_view_module_version": "1.2.0",
       "_view_name": "StyleView",
       "description_width": ""
      }
     },
     "329bf8cacd404e6c8458b829948e6220": {
      "model_module": "@jupyter-widgets/base",
      "model_module_version": "1.2.0",
      "model_name": "LayoutModel",
      "state": {
       "_model_module": "@jupyter-widgets/base",
       "_model_module_version": "1.2.0",
       "_model_name": "LayoutModel",
       "_view_count": null,
       "_view_module": "@jupyter-widgets/base",
       "_view_module_version": "1.2.0",
       "_view_name": "LayoutView",
       "align_content": null,
       "align_items": null,
       "align_self": null,
       "border": null,
       "bottom": null,
       "display": null,
       "flex": null,
       "flex_flow": null,
       "grid_area": null,
       "grid_auto_columns": null,
       "grid_auto_flow": null,
       "grid_auto_rows": null,
       "grid_column": null,
       "grid_gap": null,
       "grid_row": null,
       "grid_template_areas": null,
       "grid_template_columns": null,
       "grid_template_rows": null,
       "height": null,
       "justify_content": null,
       "justify_items": null,
       "left": null,
       "margin": null,
       "max_height": null,
       "max_width": null,
       "min_height": null,
       "min_width": null,
       "object_fit": null,
       "object_position": null,
       "order": null,
       "overflow": null,
       "overflow_x": null,
       "overflow_y": null,
       "padding": null,
       "right": null,
       "top": null,
       "visibility": null,
       "width": null
      }
     },
     "35de03080e794e019a9427cfec487c57": {
      "model_module": "@jupyter-widgets/controls",
      "model_module_version": "1.5.0",
      "model_name": "FloatProgressModel",
      "state": {
       "_dom_classes": [],
       "_model_module": "@jupyter-widgets/controls",
       "_model_module_version": "1.5.0",
       "_model_name": "FloatProgressModel",
       "_view_count": null,
       "_view_module": "@jupyter-widgets/controls",
       "_view_module_version": "1.5.0",
       "_view_name": "ProgressView",
       "bar_style": "success",
       "description": "100%",
       "description_tooltip": null,
       "layout": "IPY_MODEL_e95730688d1f44a291eee028fc3f678d",
       "max": 2144,
       "min": 0,
       "orientation": "horizontal",
       "style": "IPY_MODEL_1f655716c2e744bd9378e1ed510cfc54",
       "value": 2144
      }
     },
     "36741489a786414fbef38a6ef4c57feb": {
      "model_module": "@jupyter-widgets/base",
      "model_module_version": "1.2.0",
      "model_name": "LayoutModel",
      "state": {
       "_model_module": "@jupyter-widgets/base",
       "_model_module_version": "1.2.0",
       "_model_name": "LayoutModel",
       "_view_count": null,
       "_view_module": "@jupyter-widgets/base",
       "_view_module_version": "1.2.0",
       "_view_name": "LayoutView",
       "align_content": null,
       "align_items": null,
       "align_self": null,
       "border": null,
       "bottom": null,
       "display": null,
       "flex": null,
       "flex_flow": null,
       "grid_area": null,
       "grid_auto_columns": null,
       "grid_auto_flow": null,
       "grid_auto_rows": null,
       "grid_column": null,
       "grid_gap": null,
       "grid_row": null,
       "grid_template_areas": null,
       "grid_template_columns": null,
       "grid_template_rows": null,
       "height": null,
       "justify_content": null,
       "justify_items": null,
       "left": null,
       "margin": null,
       "max_height": null,
       "max_width": null,
       "min_height": null,
       "min_width": null,
       "object_fit": null,
       "object_position": null,
       "order": null,
       "overflow": null,
       "overflow_x": null,
       "overflow_y": null,
       "padding": null,
       "right": null,
       "top": null,
       "visibility": null,
       "width": null
      }
     },
     "3d851dc150e941d3b7929ea2ae584639": {
      "model_module": "@jupyter-widgets/controls",
      "model_module_version": "1.5.0",
      "model_name": "FloatProgressModel",
      "state": {
       "_dom_classes": [],
       "_model_module": "@jupyter-widgets/controls",
       "_model_module_version": "1.5.0",
       "_model_name": "FloatProgressModel",
       "_view_count": null,
       "_view_module": "@jupyter-widgets/controls",
       "_view_module_version": "1.5.0",
       "_view_name": "ProgressView",
       "bar_style": "success",
       "description": "100%",
       "description_tooltip": null,
       "layout": "IPY_MODEL_bb60c2d739e04d09884400803e1c4559",
       "max": 53594,
       "min": 0,
       "orientation": "horizontal",
       "style": "IPY_MODEL_065308d980fd45b09a78932fc1dd881f",
       "value": 53594
      }
     },
     "3f21a37c311c42e3acafffe7292560e5": {
      "model_module": "@jupyter-widgets/controls",
      "model_module_version": "1.5.0",
      "model_name": "HBoxModel",
      "state": {
       "_dom_classes": [],
       "_model_module": "@jupyter-widgets/controls",
       "_model_module_version": "1.5.0",
       "_model_name": "HBoxModel",
       "_view_count": null,
       "_view_module": "@jupyter-widgets/controls",
       "_view_module_version": "1.5.0",
       "_view_name": "HBoxView",
       "box_style": "",
       "children": [
        "IPY_MODEL_8c164d9d303348a280c5ed316edc066c",
        "IPY_MODEL_f0eff90433564cc09c83f81dc12597d9"
       ],
       "layout": "IPY_MODEL_50f430177f89479baf02afa6672db3d7"
      }
     },
     "3fdd48950db04c3fa2431a7457387aa0": {
      "model_module": "@jupyter-widgets/base",
      "model_module_version": "1.2.0",
      "model_name": "LayoutModel",
      "state": {
       "_model_module": "@jupyter-widgets/base",
       "_model_module_version": "1.2.0",
       "_model_name": "LayoutModel",
       "_view_count": null,
       "_view_module": "@jupyter-widgets/base",
       "_view_module_version": "1.2.0",
       "_view_name": "LayoutView",
       "align_content": null,
       "align_items": null,
       "align_self": null,
       "border": null,
       "bottom": null,
       "display": null,
       "flex": null,
       "flex_flow": null,
       "grid_area": null,
       "grid_auto_columns": null,
       "grid_auto_flow": null,
       "grid_auto_rows": null,
       "grid_column": null,
       "grid_gap": null,
       "grid_row": null,
       "grid_template_areas": null,
       "grid_template_columns": null,
       "grid_template_rows": null,
       "height": null,
       "justify_content": null,
       "justify_items": null,
       "left": null,
       "margin": null,
       "max_height": null,
       "max_width": null,
       "min_height": null,
       "min_width": null,
       "object_fit": null,
       "object_position": null,
       "order": null,
       "overflow": null,
       "overflow_x": null,
       "overflow_y": null,
       "padding": null,
       "right": null,
       "top": null,
       "visibility": null,
       "width": null
      }
     },
     "455f479fc86b4e329c062b93cddcd1c5": {
      "model_module": "@jupyter-widgets/controls",
      "model_module_version": "1.5.0",
      "model_name": "DescriptionStyleModel",
      "state": {
       "_model_module": "@jupyter-widgets/controls",
       "_model_module_version": "1.5.0",
       "_model_name": "DescriptionStyleModel",
       "_view_count": null,
       "_view_module": "@jupyter-widgets/base",
       "_view_module_version": "1.2.0",
       "_view_name": "StyleView",
       "description_width": ""
      }
     },
     "4dcb6035665c4167979636e1a5532ade": {
      "model_module": "@jupyter-widgets/base",
      "model_module_version": "1.2.0",
      "model_name": "LayoutModel",
      "state": {
       "_model_module": "@jupyter-widgets/base",
       "_model_module_version": "1.2.0",
       "_model_name": "LayoutModel",
       "_view_count": null,
       "_view_module": "@jupyter-widgets/base",
       "_view_module_version": "1.2.0",
       "_view_name": "LayoutView",
       "align_content": null,
       "align_items": null,
       "align_self": null,
       "border": null,
       "bottom": null,
       "display": null,
       "flex": null,
       "flex_flow": null,
       "grid_area": null,
       "grid_auto_columns": null,
       "grid_auto_flow": null,
       "grid_auto_rows": null,
       "grid_column": null,
       "grid_gap": null,
       "grid_row": null,
       "grid_template_areas": null,
       "grid_template_columns": null,
       "grid_template_rows": null,
       "height": null,
       "justify_content": null,
       "justify_items": null,
       "left": null,
       "margin": null,
       "max_height": null,
       "max_width": null,
       "min_height": null,
       "min_width": null,
       "object_fit": null,
       "object_position": null,
       "order": null,
       "overflow": null,
       "overflow_x": null,
       "overflow_y": null,
       "padding": null,
       "right": null,
       "top": null,
       "visibility": null,
       "width": null
      }
     },
     "4eb486f76e1044b9bbd563f44c49aa67": {
      "model_module": "@jupyter-widgets/controls",
      "model_module_version": "1.5.0",
      "model_name": "FloatProgressModel",
      "state": {
       "_dom_classes": [],
       "_model_module": "@jupyter-widgets/controls",
       "_model_module_version": "1.5.0",
       "_model_name": "FloatProgressModel",
       "_view_count": null,
       "_view_module": "@jupyter-widgets/controls",
       "_view_module_version": "1.5.0",
       "_view_name": "ProgressView",
       "bar_style": "success",
       "description": "100%",
       "description_tooltip": null,
       "layout": "IPY_MODEL_c654195d16b54ac69a17e6749d529718",
       "max": 2144,
       "min": 0,
       "orientation": "horizontal",
       "style": "IPY_MODEL_e684f112e8d149549fc50f7719e2321d",
       "value": 2144
      }
     },
     "50f430177f89479baf02afa6672db3d7": {
      "model_module": "@jupyter-widgets/base",
      "model_module_version": "1.2.0",
      "model_name": "LayoutModel",
      "state": {
       "_model_module": "@jupyter-widgets/base",
       "_model_module_version": "1.2.0",
       "_model_name": "LayoutModel",
       "_view_count": null,
       "_view_module": "@jupyter-widgets/base",
       "_view_module_version": "1.2.0",
       "_view_name": "LayoutView",
       "align_content": null,
       "align_items": null,
       "align_self": null,
       "border": null,
       "bottom": null,
       "display": null,
       "flex": null,
       "flex_flow": null,
       "grid_area": null,
       "grid_auto_columns": null,
       "grid_auto_flow": null,
       "grid_auto_rows": null,
       "grid_column": null,
       "grid_gap": null,
       "grid_row": null,
       "grid_template_areas": null,
       "grid_template_columns": null,
       "grid_template_rows": null,
       "height": null,
       "justify_content": null,
       "justify_items": null,
       "left": null,
       "margin": null,
       "max_height": null,
       "max_width": null,
       "min_height": null,
       "min_width": null,
       "object_fit": null,
       "object_position": null,
       "order": null,
       "overflow": null,
       "overflow_x": null,
       "overflow_y": null,
       "padding": null,
       "right": null,
       "top": null,
       "visibility": null,
       "width": null
      }
     },
     "545610b11fb843c3a951fc7b2c883baa": {
      "model_module": "@jupyter-widgets/controls",
      "model_module_version": "1.5.0",
      "model_name": "DescriptionStyleModel",
      "state": {
       "_model_module": "@jupyter-widgets/controls",
       "_model_module_version": "1.5.0",
       "_model_name": "DescriptionStyleModel",
       "_view_count": null,
       "_view_module": "@jupyter-widgets/base",
       "_view_module_version": "1.2.0",
       "_view_name": "StyleView",
       "description_width": ""
      }
     },
     "551b1a261fd741e4850d98d9328946c0": {
      "model_module": "@jupyter-widgets/base",
      "model_module_version": "1.2.0",
      "model_name": "LayoutModel",
      "state": {
       "_model_module": "@jupyter-widgets/base",
       "_model_module_version": "1.2.0",
       "_model_name": "LayoutModel",
       "_view_count": null,
       "_view_module": "@jupyter-widgets/base",
       "_view_module_version": "1.2.0",
       "_view_name": "LayoutView",
       "align_content": null,
       "align_items": null,
       "align_self": null,
       "border": null,
       "bottom": null,
       "display": null,
       "flex": null,
       "flex_flow": null,
       "grid_area": null,
       "grid_auto_columns": null,
       "grid_auto_flow": null,
       "grid_auto_rows": null,
       "grid_column": null,
       "grid_gap": null,
       "grid_row": null,
       "grid_template_areas": null,
       "grid_template_columns": null,
       "grid_template_rows": null,
       "height": null,
       "justify_content": null,
       "justify_items": null,
       "left": null,
       "margin": null,
       "max_height": null,
       "max_width": null,
       "min_height": null,
       "min_width": null,
       "object_fit": null,
       "object_position": null,
       "order": null,
       "overflow": null,
       "overflow_x": null,
       "overflow_y": null,
       "padding": null,
       "right": null,
       "top": null,
       "visibility": null,
       "width": null
      }
     },
     "68a5a0b9e67e4da0942b5aab82b322b8": {
      "model_module": "@jupyter-widgets/controls",
      "model_module_version": "1.5.0",
      "model_name": "HBoxModel",
      "state": {
       "_dom_classes": [],
       "_model_module": "@jupyter-widgets/controls",
       "_model_module_version": "1.5.0",
       "_model_name": "HBoxModel",
       "_view_count": null,
       "_view_module": "@jupyter-widgets/controls",
       "_view_module_version": "1.5.0",
       "_view_name": "HBoxView",
       "box_style": "",
       "children": [
        "IPY_MODEL_b9ba9ba50d0f418797e6c6e147e42890",
        "IPY_MODEL_7c4b70d874854992af6d559679186de0"
       ],
       "layout": "IPY_MODEL_551b1a261fd741e4850d98d9328946c0"
      }
     },
     "68b2c2961f894e6d966b7ce968d24881": {
      "model_module": "@jupyter-widgets/base",
      "model_module_version": "1.2.0",
      "model_name": "LayoutModel",
      "state": {
       "_model_module": "@jupyter-widgets/base",
       "_model_module_version": "1.2.0",
       "_model_name": "LayoutModel",
       "_view_count": null,
       "_view_module": "@jupyter-widgets/base",
       "_view_module_version": "1.2.0",
       "_view_name": "LayoutView",
       "align_content": null,
       "align_items": null,
       "align_self": null,
       "border": null,
       "bottom": null,
       "display": null,
       "flex": null,
       "flex_flow": null,
       "grid_area": null,
       "grid_auto_columns": null,
       "grid_auto_flow": null,
       "grid_auto_rows": null,
       "grid_column": null,
       "grid_gap": null,
       "grid_row": null,
       "grid_template_areas": null,
       "grid_template_columns": null,
       "grid_template_rows": null,
       "height": null,
       "justify_content": null,
       "justify_items": null,
       "left": null,
       "margin": null,
       "max_height": null,
       "max_width": null,
       "min_height": null,
       "min_width": null,
       "object_fit": null,
       "object_position": null,
       "order": null,
       "overflow": null,
       "overflow_x": null,
       "overflow_y": null,
       "padding": null,
       "right": null,
       "top": null,
       "visibility": null,
       "width": null
      }
     },
     "6c4a78cc191f4614956d130a3a7a611e": {
      "model_module": "@jupyter-widgets/controls",
      "model_module_version": "1.5.0",
      "model_name": "DescriptionStyleModel",
      "state": {
       "_model_module": "@jupyter-widgets/controls",
       "_model_module_version": "1.5.0",
       "_model_name": "DescriptionStyleModel",
       "_view_count": null,
       "_view_module": "@jupyter-widgets/base",
       "_view_module_version": "1.2.0",
       "_view_name": "StyleView",
       "description_width": ""
      }
     },
     "7c4b70d874854992af6d559679186de0": {
      "model_module": "@jupyter-widgets/controls",
      "model_module_version": "1.5.0",
      "model_name": "HTMLModel",
      "state": {
       "_dom_classes": [],
       "_model_module": "@jupyter-widgets/controls",
       "_model_module_version": "1.5.0",
       "_model_name": "HTMLModel",
       "_view_count": null,
       "_view_module": "@jupyter-widgets/controls",
       "_view_module_version": "1.5.0",
       "_view_name": "HTMLView",
       "description": "",
       "description_tooltip": null,
       "layout": "IPY_MODEL_8833543d03de4918a7a5fedd9dc64927",
       "placeholder": "​",
       "style": "IPY_MODEL_b7c1253c413c42beaf10bcd452ba911b",
       "value": " 2144/2144 [15:52&lt;00:00,  2.25it/s]"
      }
     },
     "830551676e924f1ab38dc93716e86d23": {
      "model_module": "@jupyter-widgets/controls",
      "model_module_version": "1.5.0",
      "model_name": "HBoxModel",
      "state": {
       "_dom_classes": [],
       "_model_module": "@jupyter-widgets/controls",
       "_model_module_version": "1.5.0",
       "_model_name": "HBoxModel",
       "_view_count": null,
       "_view_module": "@jupyter-widgets/controls",
       "_view_module_version": "1.5.0",
       "_view_name": "HBoxView",
       "box_style": "",
       "children": [
        "IPY_MODEL_bc73785e542347b197abc7b2d163afd0",
        "IPY_MODEL_fbaf20a411bb467784ea83a041b6b5be"
       ],
       "layout": "IPY_MODEL_22394f61b02b463aae86f367878574d6"
      }
     },
     "8833543d03de4918a7a5fedd9dc64927": {
      "model_module": "@jupyter-widgets/base",
      "model_module_version": "1.2.0",
      "model_name": "LayoutModel",
      "state": {
       "_model_module": "@jupyter-widgets/base",
       "_model_module_version": "1.2.0",
       "_model_name": "LayoutModel",
       "_view_count": null,
       "_view_module": "@jupyter-widgets/base",
       "_view_module_version": "1.2.0",
       "_view_name": "LayoutView",
       "align_content": null,
       "align_items": null,
       "align_self": null,
       "border": null,
       "bottom": null,
       "display": null,
       "flex": null,
       "flex_flow": null,
       "grid_area": null,
       "grid_auto_columns": null,
       "grid_auto_flow": null,
       "grid_auto_rows": null,
       "grid_column": null,
       "grid_gap": null,
       "grid_row": null,
       "grid_template_areas": null,
       "grid_template_columns": null,
       "grid_template_rows": null,
       "height": null,
       "justify_content": null,
       "justify_items": null,
       "left": null,
       "margin": null,
       "max_height": null,
       "max_width": null,
       "min_height": null,
       "min_width": null,
       "object_fit": null,
       "object_position": null,
       "order": null,
       "overflow": null,
       "overflow_x": null,
       "overflow_y": null,
       "padding": null,
       "right": null,
       "top": null,
       "visibility": null,
       "width": null
      }
     },
     "8a01664b73ce4b00ba533404ec8beb71": {
      "model_module": "@jupyter-widgets/controls",
      "model_module_version": "1.5.0",
      "model_name": "HBoxModel",
      "state": {
       "_dom_classes": [],
       "_model_module": "@jupyter-widgets/controls",
       "_model_module_version": "1.5.0",
       "_model_name": "HBoxModel",
       "_view_count": null,
       "_view_module": "@jupyter-widgets/controls",
       "_view_module_version": "1.5.0",
       "_view_name": "HBoxView",
       "box_style": "",
       "children": [
        "IPY_MODEL_d854345572a6440d915953a167a46e85",
        "IPY_MODEL_fa88042f64ef4f3da3e61923611ba530"
       ],
       "layout": "IPY_MODEL_e234fa0d2d6748cfa10a133cfe0391fb"
      }
     },
     "8c164d9d303348a280c5ed316edc066c": {
      "model_module": "@jupyter-widgets/controls",
      "model_module_version": "1.5.0",
      "model_name": "FloatProgressModel",
      "state": {
       "_dom_classes": [],
       "_model_module": "@jupyter-widgets/controls",
       "_model_module_version": "1.5.0",
       "_model_name": "FloatProgressModel",
       "_view_count": null,
       "_view_module": "@jupyter-widgets/controls",
       "_view_module_version": "1.5.0",
       "_view_name": "ProgressView",
       "bar_style": "success",
       "description": "100%",
       "description_tooltip": null,
       "layout": "IPY_MODEL_f37ccbfa203246e7b586e70172c8b9be",
       "max": 2144,
       "min": 0,
       "orientation": "horizontal",
       "style": "IPY_MODEL_f313ac31ddd1484092f100ecd8dda18b",
       "value": 2144
      }
     },
     "8c49b03cd3b04b57907091364f4f92a5": {
      "model_module": "@jupyter-widgets/controls",
      "model_module_version": "1.5.0",
      "model_name": "HBoxModel",
      "state": {
       "_dom_classes": [],
       "_model_module": "@jupyter-widgets/controls",
       "_model_module_version": "1.5.0",
       "_model_name": "HBoxModel",
       "_view_count": null,
       "_view_module": "@jupyter-widgets/controls",
       "_view_module_version": "1.5.0",
       "_view_name": "HBoxView",
       "box_style": "",
       "children": [
        "IPY_MODEL_4eb486f76e1044b9bbd563f44c49aa67",
        "IPY_MODEL_99cacbc47ada4eb5b2cbe24608f2b38f"
       ],
       "layout": "IPY_MODEL_e768e9197ee74c549483a6ed5415038a"
      }
     },
     "904d78cbfb7b4d2ba26420ffc80f8602": {
      "model_module": "@jupyter-widgets/controls",
      "model_module_version": "1.5.0",
      "model_name": "HBoxModel",
      "state": {
       "_dom_classes": [],
       "_model_module": "@jupyter-widgets/controls",
       "_model_module_version": "1.5.0",
       "_model_name": "HBoxModel",
       "_view_count": null,
       "_view_module": "@jupyter-widgets/controls",
       "_view_module_version": "1.5.0",
       "_view_name": "HBoxView",
       "box_style": "",
       "children": [
        "IPY_MODEL_35de03080e794e019a9427cfec487c57",
        "IPY_MODEL_1fa21c754c8341f8bfd950bcc3de4d3e"
       ],
       "layout": "IPY_MODEL_0123acede48f42cd931f7cce0ff0ac43"
      }
     },
     "92e33f41a3c34754880f35be31b82698": {
      "model_module": "@jupyter-widgets/controls",
      "model_module_version": "1.5.0",
      "model_name": "ProgressStyleModel",
      "state": {
       "_model_module": "@jupyter-widgets/controls",
       "_model_module_version": "1.5.0",
       "_model_name": "ProgressStyleModel",
       "_view_count": null,
       "_view_module": "@jupyter-widgets/base",
       "_view_module_version": "1.2.0",
       "_view_name": "StyleView",
       "bar_color": null,
       "description_width": "initial"
      }
     },
     "985ab07d62284961b5d9d2900fc2c132": {
      "model_module": "@jupyter-widgets/base",
      "model_module_version": "1.2.0",
      "model_name": "LayoutModel",
      "state": {
       "_model_module": "@jupyter-widgets/base",
       "_model_module_version": "1.2.0",
       "_model_name": "LayoutModel",
       "_view_count": null,
       "_view_module": "@jupyter-widgets/base",
       "_view_module_version": "1.2.0",
       "_view_name": "LayoutView",
       "align_content": null,
       "align_items": null,
       "align_self": null,
       "border": null,
       "bottom": null,
       "display": null,
       "flex": null,
       "flex_flow": null,
       "grid_area": null,
       "grid_auto_columns": null,
       "grid_auto_flow": null,
       "grid_auto_rows": null,
       "grid_column": null,
       "grid_gap": null,
       "grid_row": null,
       "grid_template_areas": null,
       "grid_template_columns": null,
       "grid_template_rows": null,
       "height": null,
       "justify_content": null,
       "justify_items": null,
       "left": null,
       "margin": null,
       "max_height": null,
       "max_width": null,
       "min_height": null,
       "min_width": null,
       "object_fit": null,
       "object_position": null,
       "order": null,
       "overflow": null,
       "overflow_x": null,
       "overflow_y": null,
       "padding": null,
       "right": null,
       "top": null,
       "visibility": null,
       "width": null
      }
     },
     "985ecba9626e408da7dd77582c25fe09": {
      "model_module": "@jupyter-widgets/controls",
      "model_module_version": "1.5.0",
      "model_name": "DescriptionStyleModel",
      "state": {
       "_model_module": "@jupyter-widgets/controls",
       "_model_module_version": "1.5.0",
       "_model_name": "DescriptionStyleModel",
       "_view_count": null,
       "_view_module": "@jupyter-widgets/base",
       "_view_module_version": "1.2.0",
       "_view_name": "StyleView",
       "description_width": ""
      }
     },
     "99cacbc47ada4eb5b2cbe24608f2b38f": {
      "model_module": "@jupyter-widgets/controls",
      "model_module_version": "1.5.0",
      "model_name": "HTMLModel",
      "state": {
       "_dom_classes": [],
       "_model_module": "@jupyter-widgets/controls",
       "_model_module_version": "1.5.0",
       "_model_name": "HTMLModel",
       "_view_count": null,
       "_view_module": "@jupyter-widgets/controls",
       "_view_module_version": "1.5.0",
       "_view_name": "HTMLView",
       "description": "",
       "description_tooltip": null,
       "layout": "IPY_MODEL_985ab07d62284961b5d9d2900fc2c132",
       "placeholder": "​",
       "style": "IPY_MODEL_545610b11fb843c3a951fc7b2c883baa",
       "value": " 2144/2144 [15:54&lt;00:00,  2.25it/s]"
      }
     },
     "99fa0d26829a4907a71550fc34cd5040": {
      "model_module": "@jupyter-widgets/base",
      "model_module_version": "1.2.0",
      "model_name": "LayoutModel",
      "state": {
       "_model_module": "@jupyter-widgets/base",
       "_model_module_version": "1.2.0",
       "_model_name": "LayoutModel",
       "_view_count": null,
       "_view_module": "@jupyter-widgets/base",
       "_view_module_version": "1.2.0",
       "_view_name": "LayoutView",
       "align_content": null,
       "align_items": null,
       "align_self": null,
       "border": null,
       "bottom": null,
       "display": null,
       "flex": null,
       "flex_flow": null,
       "grid_area": null,
       "grid_auto_columns": null,
       "grid_auto_flow": null,
       "grid_auto_rows": null,
       "grid_column": null,
       "grid_gap": null,
       "grid_row": null,
       "grid_template_areas": null,
       "grid_template_columns": null,
       "grid_template_rows": null,
       "height": null,
       "justify_content": null,
       "justify_items": null,
       "left": null,
       "margin": null,
       "max_height": null,
       "max_width": null,
       "min_height": null,
       "min_width": null,
       "object_fit": null,
       "object_position": null,
       "order": null,
       "overflow": null,
       "overflow_x": null,
       "overflow_y": null,
       "padding": null,
       "right": null,
       "top": null,
       "visibility": null,
       "width": null
      }
     },
     "9d9831ee58ee4fbab973ce966e22d473": {
      "model_module": "@jupyter-widgets/base",
      "model_module_version": "1.2.0",
      "model_name": "LayoutModel",
      "state": {
       "_model_module": "@jupyter-widgets/base",
       "_model_module_version": "1.2.0",
       "_model_name": "LayoutModel",
       "_view_count": null,
       "_view_module": "@jupyter-widgets/base",
       "_view_module_version": "1.2.0",
       "_view_name": "LayoutView",
       "align_content": null,
       "align_items": null,
       "align_self": null,
       "border": null,
       "bottom": null,
       "display": null,
       "flex": null,
       "flex_flow": null,
       "grid_area": null,
       "grid_auto_columns": null,
       "grid_auto_flow": null,
       "grid_auto_rows": null,
       "grid_column": null,
       "grid_gap": null,
       "grid_row": null,
       "grid_template_areas": null,
       "grid_template_columns": null,
       "grid_template_rows": null,
       "height": null,
       "justify_content": null,
       "justify_items": null,
       "left": null,
       "margin": null,
       "max_height": null,
       "max_width": null,
       "min_height": null,
       "min_width": null,
       "object_fit": null,
       "object_position": null,
       "order": null,
       "overflow": null,
       "overflow_x": null,
       "overflow_y": null,
       "padding": null,
       "right": null,
       "top": null,
       "visibility": null,
       "width": null
      }
     },
     "a3955f6a505342ef9530fc0df21bfca1": {
      "model_module": "@jupyter-widgets/controls",
      "model_module_version": "1.5.0",
      "model_name": "DescriptionStyleModel",
      "state": {
       "_model_module": "@jupyter-widgets/controls",
       "_model_module_version": "1.5.0",
       "_model_name": "DescriptionStyleModel",
       "_view_count": null,
       "_view_module": "@jupyter-widgets/base",
       "_view_module_version": "1.2.0",
       "_view_name": "StyleView",
       "description_width": ""
      }
     },
     "ab30d1f996294165a135f73ecac1663f": {
      "model_module": "@jupyter-widgets/controls",
      "model_module_version": "1.5.0",
      "model_name": "FloatProgressModel",
      "state": {
       "_dom_classes": [],
       "_model_module": "@jupyter-widgets/controls",
       "_model_module_version": "1.5.0",
       "_model_name": "FloatProgressModel",
       "_view_count": null,
       "_view_module": "@jupyter-widgets/controls",
       "_view_module_version": "1.5.0",
       "_view_name": "ProgressView",
       "bar_style": "success",
       "description": "100%",
       "description_tooltip": null,
       "layout": "IPY_MODEL_4dcb6035665c4167979636e1a5532ade",
       "max": 53594,
       "min": 0,
       "orientation": "horizontal",
       "style": "IPY_MODEL_0324078e522b4547ab947ccee81a3cee",
       "value": 53594
      }
     },
     "b67293801f7044d7853596d49b500278": {
      "model_module": "@jupyter-widgets/controls",
      "model_module_version": "1.5.0",
      "model_name": "DescriptionStyleModel",
      "state": {
       "_model_module": "@jupyter-widgets/controls",
       "_model_module_version": "1.5.0",
       "_model_name": "DescriptionStyleModel",
       "_view_count": null,
       "_view_module": "@jupyter-widgets/base",
       "_view_module_version": "1.2.0",
       "_view_name": "StyleView",
       "description_width": ""
      }
     },
     "b7c1253c413c42beaf10bcd452ba911b": {
      "model_module": "@jupyter-widgets/controls",
      "model_module_version": "1.5.0",
      "model_name": "DescriptionStyleModel",
      "state": {
       "_model_module": "@jupyter-widgets/controls",
       "_model_module_version": "1.5.0",
       "_model_name": "DescriptionStyleModel",
       "_view_count": null,
       "_view_module": "@jupyter-widgets/base",
       "_view_module_version": "1.2.0",
       "_view_name": "StyleView",
       "description_width": ""
      }
     },
     "b9ba9ba50d0f418797e6c6e147e42890": {
      "model_module": "@jupyter-widgets/controls",
      "model_module_version": "1.5.0",
      "model_name": "FloatProgressModel",
      "state": {
       "_dom_classes": [],
       "_model_module": "@jupyter-widgets/controls",
       "_model_module_version": "1.5.0",
       "_model_name": "FloatProgressModel",
       "_view_count": null,
       "_view_module": "@jupyter-widgets/controls",
       "_view_module_version": "1.5.0",
       "_view_name": "ProgressView",
       "bar_style": "success",
       "description": "100%",
       "description_tooltip": null,
       "layout": "IPY_MODEL_edf51a404ef14accab8998d1a724b9b5",
       "max": 2144,
       "min": 0,
       "orientation": "horizontal",
       "style": "IPY_MODEL_0b7439e0717144c998ffc79db8aa0482",
       "value": 2144
      }
     },
     "bb60c2d739e04d09884400803e1c4559": {
      "model_module": "@jupyter-widgets/base",
      "model_module_version": "1.2.0",
      "model_name": "LayoutModel",
      "state": {
       "_model_module": "@jupyter-widgets/base",
       "_model_module_version": "1.2.0",
       "_model_name": "LayoutModel",
       "_view_count": null,
       "_view_module": "@jupyter-widgets/base",
       "_view_module_version": "1.2.0",
       "_view_name": "LayoutView",
       "align_content": null,
       "align_items": null,
       "align_self": null,
       "border": null,
       "bottom": null,
       "display": null,
       "flex": null,
       "flex_flow": null,
       "grid_area": null,
       "grid_auto_columns": null,
       "grid_auto_flow": null,
       "grid_auto_rows": null,
       "grid_column": null,
       "grid_gap": null,
       "grid_row": null,
       "grid_template_areas": null,
       "grid_template_columns": null,
       "grid_template_rows": null,
       "height": null,
       "justify_content": null,
       "justify_items": null,
       "left": null,
       "margin": null,
       "max_height": null,
       "max_width": null,
       "min_height": null,
       "min_width": null,
       "object_fit": null,
       "object_position": null,
       "order": null,
       "overflow": null,
       "overflow_x": null,
       "overflow_y": null,
       "padding": null,
       "right": null,
       "top": null,
       "visibility": null,
       "width": null
      }
     },
     "bc73785e542347b197abc7b2d163afd0": {
      "model_module": "@jupyter-widgets/controls",
      "model_module_version": "1.5.0",
      "model_name": "FloatProgressModel",
      "state": {
       "_dom_classes": [],
       "_model_module": "@jupyter-widgets/controls",
       "_model_module_version": "1.5.0",
       "_model_name": "FloatProgressModel",
       "_view_count": null,
       "_view_module": "@jupyter-widgets/controls",
       "_view_module_version": "1.5.0",
       "_view_name": "ProgressView",
       "bar_style": "success",
       "description": "100%",
       "description_tooltip": null,
       "layout": "IPY_MODEL_68b2c2961f894e6d966b7ce968d24881",
       "max": 2144,
       "min": 0,
       "orientation": "horizontal",
       "style": "IPY_MODEL_92e33f41a3c34754880f35be31b82698",
       "value": 2144
      }
     },
     "c5d8021b8072472c9e4769f7fa88910e": {
      "model_module": "@jupyter-widgets/controls",
      "model_module_version": "1.5.0",
      "model_name": "HTMLModel",
      "state": {
       "_dom_classes": [],
       "_model_module": "@jupyter-widgets/controls",
       "_model_module_version": "1.5.0",
       "_model_name": "HTMLModel",
       "_view_count": null,
       "_view_module": "@jupyter-widgets/controls",
       "_view_module_version": "1.5.0",
       "_view_name": "HTMLView",
       "description": "",
       "description_tooltip": null,
       "layout": "IPY_MODEL_107bd33db380498796db13775d0b4c10",
       "placeholder": "​",
       "style": "IPY_MODEL_1197d432022e420bbb5e692492e9e621",
       "value": " 53594/53594 [00:01&lt;00:00, 36180.21it/s]"
      }
     },
     "c654195d16b54ac69a17e6749d529718": {
      "model_module": "@jupyter-widgets/base",
      "model_module_version": "1.2.0",
      "model_name": "LayoutModel",
      "state": {
       "_model_module": "@jupyter-widgets/base",
       "_model_module_version": "1.2.0",
       "_model_name": "LayoutModel",
       "_view_count": null,
       "_view_module": "@jupyter-widgets/base",
       "_view_module_version": "1.2.0",
       "_view_name": "LayoutView",
       "align_content": null,
       "align_items": null,
       "align_self": null,
       "border": null,
       "bottom": null,
       "display": null,
       "flex": null,
       "flex_flow": null,
       "grid_area": null,
       "grid_auto_columns": null,
       "grid_auto_flow": null,
       "grid_auto_rows": null,
       "grid_column": null,
       "grid_gap": null,
       "grid_row": null,
       "grid_template_areas": null,
       "grid_template_columns": null,
       "grid_template_rows": null,
       "height": null,
       "justify_content": null,
       "justify_items": null,
       "left": null,
       "margin": null,
       "max_height": null,
       "max_width": null,
       "min_height": null,
       "min_width": null,
       "object_fit": null,
       "object_position": null,
       "order": null,
       "overflow": null,
       "overflow_x": null,
       "overflow_y": null,
       "padding": null,
       "right": null,
       "top": null,
       "visibility": null,
       "width": null
      }
     },
     "d73e8afdf2a14d73a7656295cc0e4eae": {
      "model_module": "@jupyter-widgets/controls",
      "model_module_version": "1.5.0",
      "model_name": "HBoxModel",
      "state": {
       "_dom_classes": [],
       "_model_module": "@jupyter-widgets/controls",
       "_model_module_version": "1.5.0",
       "_model_name": "HBoxModel",
       "_view_count": null,
       "_view_module": "@jupyter-widgets/controls",
       "_view_module_version": "1.5.0",
       "_view_name": "HBoxView",
       "box_style": "",
       "children": [
        "IPY_MODEL_f278043e7693452ca9ba46e9752e8257",
        "IPY_MODEL_eea3e2cd4cc84dbe97290e1f5ae84bd7"
       ],
       "layout": "IPY_MODEL_f4427abdd5ad4a1ab2736af39636dfa1"
      }
     },
     "d854345572a6440d915953a167a46e85": {
      "model_module": "@jupyter-widgets/controls",
      "model_module_version": "1.5.0",
      "model_name": "FloatProgressModel",
      "state": {
       "_dom_classes": [],
       "_model_module": "@jupyter-widgets/controls",
       "_model_module_version": "1.5.0",
       "_model_name": "FloatProgressModel",
       "_view_count": null,
       "_view_module": "@jupyter-widgets/controls",
       "_view_module_version": "1.5.0",
       "_view_name": "ProgressView",
       "bar_style": "success",
       "description": "100%",
       "description_tooltip": null,
       "layout": "IPY_MODEL_100818a2933b46bd84e89d599e791ef3",
       "max": 2144,
       "min": 0,
       "orientation": "horizontal",
       "style": "IPY_MODEL_fd14697568d94adb9a52599eb4f97979",
       "value": 2144
      }
     },
     "dcd242b997c743e592066360371bb488": {
      "model_module": "@jupyter-widgets/base",
      "model_module_version": "1.2.0",
      "model_name": "LayoutModel",
      "state": {
       "_model_module": "@jupyter-widgets/base",
       "_model_module_version": "1.2.0",
       "_model_name": "LayoutModel",
       "_view_count": null,
       "_view_module": "@jupyter-widgets/base",
       "_view_module_version": "1.2.0",
       "_view_name": "LayoutView",
       "align_content": null,
       "align_items": null,
       "align_self": null,
       "border": null,
       "bottom": null,
       "display": null,
       "flex": null,
       "flex_flow": null,
       "grid_area": null,
       "grid_auto_columns": null,
       "grid_auto_flow": null,
       "grid_auto_rows": null,
       "grid_column": null,
       "grid_gap": null,
       "grid_row": null,
       "grid_template_areas": null,
       "grid_template_columns": null,
       "grid_template_rows": null,
       "height": null,
       "justify_content": null,
       "justify_items": null,
       "left": null,
       "margin": null,
       "max_height": null,
       "max_width": null,
       "min_height": null,
       "min_width": null,
       "object_fit": null,
       "object_position": null,
       "order": null,
       "overflow": null,
       "overflow_x": null,
       "overflow_y": null,
       "padding": null,
       "right": null,
       "top": null,
       "visibility": null,
       "width": null
      }
     },
     "e234fa0d2d6748cfa10a133cfe0391fb": {
      "model_module": "@jupyter-widgets/base",
      "model_module_version": "1.2.0",
      "model_name": "LayoutModel",
      "state": {
       "_model_module": "@jupyter-widgets/base",
       "_model_module_version": "1.2.0",
       "_model_name": "LayoutModel",
       "_view_count": null,
       "_view_module": "@jupyter-widgets/base",
       "_view_module_version": "1.2.0",
       "_view_name": "LayoutView",
       "align_content": null,
       "align_items": null,
       "align_self": null,
       "border": null,
       "bottom": null,
       "display": null,
       "flex": null,
       "flex_flow": null,
       "grid_area": null,
       "grid_auto_columns": null,
       "grid_auto_flow": null,
       "grid_auto_rows": null,
       "grid_column": null,
       "grid_gap": null,
       "grid_row": null,
       "grid_template_areas": null,
       "grid_template_columns": null,
       "grid_template_rows": null,
       "height": null,
       "justify_content": null,
       "justify_items": null,
       "left": null,
       "margin": null,
       "max_height": null,
       "max_width": null,
       "min_height": null,
       "min_width": null,
       "object_fit": null,
       "object_position": null,
       "order": null,
       "overflow": null,
       "overflow_x": null,
       "overflow_y": null,
       "padding": null,
       "right": null,
       "top": null,
       "visibility": null,
       "width": null
      }
     },
     "e684f112e8d149549fc50f7719e2321d": {
      "model_module": "@jupyter-widgets/controls",
      "model_module_version": "1.5.0",
      "model_name": "ProgressStyleModel",
      "state": {
       "_model_module": "@jupyter-widgets/controls",
       "_model_module_version": "1.5.0",
       "_model_name": "ProgressStyleModel",
       "_view_count": null,
       "_view_module": "@jupyter-widgets/base",
       "_view_module_version": "1.2.0",
       "_view_name": "StyleView",
       "bar_color": null,
       "description_width": "initial"
      }
     },
     "e768e9197ee74c549483a6ed5415038a": {
      "model_module": "@jupyter-widgets/base",
      "model_module_version": "1.2.0",
      "model_name": "LayoutModel",
      "state": {
       "_model_module": "@jupyter-widgets/base",
       "_model_module_version": "1.2.0",
       "_model_name": "LayoutModel",
       "_view_count": null,
       "_view_module": "@jupyter-widgets/base",
       "_view_module_version": "1.2.0",
       "_view_name": "LayoutView",
       "align_content": null,
       "align_items": null,
       "align_self": null,
       "border": null,
       "bottom": null,
       "display": null,
       "flex": null,
       "flex_flow": null,
       "grid_area": null,
       "grid_auto_columns": null,
       "grid_auto_flow": null,
       "grid_auto_rows": null,
       "grid_column": null,
       "grid_gap": null,
       "grid_row": null,
       "grid_template_areas": null,
       "grid_template_columns": null,
       "grid_template_rows": null,
       "height": null,
       "justify_content": null,
       "justify_items": null,
       "left": null,
       "margin": null,
       "max_height": null,
       "max_width": null,
       "min_height": null,
       "min_width": null,
       "object_fit": null,
       "object_position": null,
       "order": null,
       "overflow": null,
       "overflow_x": null,
       "overflow_y": null,
       "padding": null,
       "right": null,
       "top": null,
       "visibility": null,
       "width": null
      }
     },
     "e95730688d1f44a291eee028fc3f678d": {
      "model_module": "@jupyter-widgets/base",
      "model_module_version": "1.2.0",
      "model_name": "LayoutModel",
      "state": {
       "_model_module": "@jupyter-widgets/base",
       "_model_module_version": "1.2.0",
       "_model_name": "LayoutModel",
       "_view_count": null,
       "_view_module": "@jupyter-widgets/base",
       "_view_module_version": "1.2.0",
       "_view_name": "LayoutView",
       "align_content": null,
       "align_items": null,
       "align_self": null,
       "border": null,
       "bottom": null,
       "display": null,
       "flex": null,
       "flex_flow": null,
       "grid_area": null,
       "grid_auto_columns": null,
       "grid_auto_flow": null,
       "grid_auto_rows": null,
       "grid_column": null,
       "grid_gap": null,
       "grid_row": null,
       "grid_template_areas": null,
       "grid_template_columns": null,
       "grid_template_rows": null,
       "height": null,
       "justify_content": null,
       "justify_items": null,
       "left": null,
       "margin": null,
       "max_height": null,
       "max_width": null,
       "min_height": null,
       "min_width": null,
       "object_fit": null,
       "object_position": null,
       "order": null,
       "overflow": null,
       "overflow_x": null,
       "overflow_y": null,
       "padding": null,
       "right": null,
       "top": null,
       "visibility": null,
       "width": null
      }
     },
     "edf51a404ef14accab8998d1a724b9b5": {
      "model_module": "@jupyter-widgets/base",
      "model_module_version": "1.2.0",
      "model_name": "LayoutModel",
      "state": {
       "_model_module": "@jupyter-widgets/base",
       "_model_module_version": "1.2.0",
       "_model_name": "LayoutModel",
       "_view_count": null,
       "_view_module": "@jupyter-widgets/base",
       "_view_module_version": "1.2.0",
       "_view_name": "LayoutView",
       "align_content": null,
       "align_items": null,
       "align_self": null,
       "border": null,
       "bottom": null,
       "display": null,
       "flex": null,
       "flex_flow": null,
       "grid_area": null,
       "grid_auto_columns": null,
       "grid_auto_flow": null,
       "grid_auto_rows": null,
       "grid_column": null,
       "grid_gap": null,
       "grid_row": null,
       "grid_template_areas": null,
       "grid_template_columns": null,
       "grid_template_rows": null,
       "height": null,
       "justify_content": null,
       "justify_items": null,
       "left": null,
       "margin": null,
       "max_height": null,
       "max_width": null,
       "min_height": null,
       "min_width": null,
       "object_fit": null,
       "object_position": null,
       "order": null,
       "overflow": null,
       "overflow_x": null,
       "overflow_y": null,
       "padding": null,
       "right": null,
       "top": null,
       "visibility": null,
       "width": null
      }
     },
     "eea3e2cd4cc84dbe97290e1f5ae84bd7": {
      "model_module": "@jupyter-widgets/controls",
      "model_module_version": "1.5.0",
      "model_name": "HTMLModel",
      "state": {
       "_dom_classes": [],
       "_model_module": "@jupyter-widgets/controls",
       "_model_module_version": "1.5.0",
       "_model_name": "HTMLModel",
       "_view_count": null,
       "_view_module": "@jupyter-widgets/controls",
       "_view_module_version": "1.5.0",
       "_view_name": "HTMLView",
       "description": "",
       "description_tooltip": null,
       "layout": "IPY_MODEL_13113632bec44fe88a93c80872ede614",
       "placeholder": "​",
       "style": "IPY_MODEL_985ecba9626e408da7dd77582c25fe09",
       "value": " 2144/2144 [16:01&lt;00:00,  2.23it/s]"
      }
     },
     "ef2fabf0f12d4fa9a3cf960e96144684": {
      "model_module": "@jupyter-widgets/base",
      "model_module_version": "1.2.0",
      "model_name": "LayoutModel",
      "state": {
       "_model_module": "@jupyter-widgets/base",
       "_model_module_version": "1.2.0",
       "_model_name": "LayoutModel",
       "_view_count": null,
       "_view_module": "@jupyter-widgets/base",
       "_view_module_version": "1.2.0",
       "_view_name": "LayoutView",
       "align_content": null,
       "align_items": null,
       "align_self": null,
       "border": null,
       "bottom": null,
       "display": null,
       "flex": null,
       "flex_flow": null,
       "grid_area": null,
       "grid_auto_columns": null,
       "grid_auto_flow": null,
       "grid_auto_rows": null,
       "grid_column": null,
       "grid_gap": null,
       "grid_row": null,
       "grid_template_areas": null,
       "grid_template_columns": null,
       "grid_template_rows": null,
       "height": null,
       "justify_content": null,
       "justify_items": null,
       "left": null,
       "margin": null,
       "max_height": null,
       "max_width": null,
       "min_height": null,
       "min_width": null,
       "object_fit": null,
       "object_position": null,
       "order": null,
       "overflow": null,
       "overflow_x": null,
       "overflow_y": null,
       "padding": null,
       "right": null,
       "top": null,
       "visibility": null,
       "width": null
      }
     },
     "f0eff90433564cc09c83f81dc12597d9": {
      "model_module": "@jupyter-widgets/controls",
      "model_module_version": "1.5.0",
      "model_name": "HTMLModel",
      "state": {
       "_dom_classes": [],
       "_model_module": "@jupyter-widgets/controls",
       "_model_module_version": "1.5.0",
       "_model_name": "HTMLModel",
       "_view_count": null,
       "_view_module": "@jupyter-widgets/controls",
       "_view_module_version": "1.5.0",
       "_view_name": "HTMLView",
       "description": "",
       "description_tooltip": null,
       "layout": "IPY_MODEL_329bf8cacd404e6c8458b829948e6220",
       "placeholder": "​",
       "style": "IPY_MODEL_2deb9914420749af909516f7653a6d6a",
       "value": " 2144/2144 [15:40&lt;00:00,  2.28it/s]"
      }
     },
     "f278043e7693452ca9ba46e9752e8257": {
      "model_module": "@jupyter-widgets/controls",
      "model_module_version": "1.5.0",
      "model_name": "FloatProgressModel",
      "state": {
       "_dom_classes": [],
       "_model_module": "@jupyter-widgets/controls",
       "_model_module_version": "1.5.0",
       "_model_name": "FloatProgressModel",
       "_view_count": null,
       "_view_module": "@jupyter-widgets/controls",
       "_view_module_version": "1.5.0",
       "_view_name": "ProgressView",
       "bar_style": "success",
       "description": "100%",
       "description_tooltip": null,
       "layout": "IPY_MODEL_dcd242b997c743e592066360371bb488",
       "max": 2144,
       "min": 0,
       "orientation": "horizontal",
       "style": "IPY_MODEL_02c171da76ae498895760bdb40795176",
       "value": 2144
      }
     },
     "f313ac31ddd1484092f100ecd8dda18b": {
      "model_module": "@jupyter-widgets/controls",
      "model_module_version": "1.5.0",
      "model_name": "ProgressStyleModel",
      "state": {
       "_model_module": "@jupyter-widgets/controls",
       "_model_module_version": "1.5.0",
       "_model_name": "ProgressStyleModel",
       "_view_count": null,
       "_view_module": "@jupyter-widgets/base",
       "_view_module_version": "1.2.0",
       "_view_name": "StyleView",
       "bar_color": null,
       "description_width": "initial"
      }
     },
     "f37ccbfa203246e7b586e70172c8b9be": {
      "model_module": "@jupyter-widgets/base",
      "model_module_version": "1.2.0",
      "model_name": "LayoutModel",
      "state": {
       "_model_module": "@jupyter-widgets/base",
       "_model_module_version": "1.2.0",
       "_model_name": "LayoutModel",
       "_view_count": null,
       "_view_module": "@jupyter-widgets/base",
       "_view_module_version": "1.2.0",
       "_view_name": "LayoutView",
       "align_content": null,
       "align_items": null,
       "align_self": null,
       "border": null,
       "bottom": null,
       "display": null,
       "flex": null,
       "flex_flow": null,
       "grid_area": null,
       "grid_auto_columns": null,
       "grid_auto_flow": null,
       "grid_auto_rows": null,
       "grid_column": null,
       "grid_gap": null,
       "grid_row": null,
       "grid_template_areas": null,
       "grid_template_columns": null,
       "grid_template_rows": null,
       "height": null,
       "justify_content": null,
       "justify_items": null,
       "left": null,
       "margin": null,
       "max_height": null,
       "max_width": null,
       "min_height": null,
       "min_width": null,
       "object_fit": null,
       "object_position": null,
       "order": null,
       "overflow": null,
       "overflow_x": null,
       "overflow_y": null,
       "padding": null,
       "right": null,
       "top": null,
       "visibility": null,
       "width": null
      }
     },
     "f41fdd7cabe0410a92d856a2b6749fe7": {
      "model_module": "@jupyter-widgets/controls",
      "model_module_version": "1.5.0",
      "model_name": "HBoxModel",
      "state": {
       "_dom_classes": [],
       "_model_module": "@jupyter-widgets/controls",
       "_model_module_version": "1.5.0",
       "_model_name": "HBoxModel",
       "_view_count": null,
       "_view_module": "@jupyter-widgets/controls",
       "_view_module_version": "1.5.0",
       "_view_name": "HBoxView",
       "box_style": "",
       "children": [
        "IPY_MODEL_ab30d1f996294165a135f73ecac1663f",
        "IPY_MODEL_c5d8021b8072472c9e4769f7fa88910e"
       ],
       "layout": "IPY_MODEL_ef2fabf0f12d4fa9a3cf960e96144684"
      }
     },
     "f4427abdd5ad4a1ab2736af39636dfa1": {
      "model_module": "@jupyter-widgets/base",
      "model_module_version": "1.2.0",
      "model_name": "LayoutModel",
      "state": {
       "_model_module": "@jupyter-widgets/base",
       "_model_module_version": "1.2.0",
       "_model_name": "LayoutModel",
       "_view_count": null,
       "_view_module": "@jupyter-widgets/base",
       "_view_module_version": "1.2.0",
       "_view_name": "LayoutView",
       "align_content": null,
       "align_items": null,
       "align_self": null,
       "border": null,
       "bottom": null,
       "display": null,
       "flex": null,
       "flex_flow": null,
       "grid_area": null,
       "grid_auto_columns": null,
       "grid_auto_flow": null,
       "grid_auto_rows": null,
       "grid_column": null,
       "grid_gap": null,
       "grid_row": null,
       "grid_template_areas": null,
       "grid_template_columns": null,
       "grid_template_rows": null,
       "height": null,
       "justify_content": null,
       "justify_items": null,
       "left": null,
       "margin": null,
       "max_height": null,
       "max_width": null,
       "min_height": null,
       "min_width": null,
       "object_fit": null,
       "object_position": null,
       "order": null,
       "overflow": null,
       "overflow_x": null,
       "overflow_y": null,
       "padding": null,
       "right": null,
       "top": null,
       "visibility": null,
       "width": null
      }
     },
     "fa88042f64ef4f3da3e61923611ba530": {
      "model_module": "@jupyter-widgets/controls",
      "model_module_version": "1.5.0",
      "model_name": "HTMLModel",
      "state": {
       "_dom_classes": [],
       "_model_module": "@jupyter-widgets/controls",
       "_model_module_version": "1.5.0",
       "_model_name": "HTMLModel",
       "_view_count": null,
       "_view_module": "@jupyter-widgets/controls",
       "_view_module_version": "1.5.0",
       "_view_name": "HTMLView",
       "description": "",
       "description_tooltip": null,
       "layout": "IPY_MODEL_011006e6499642fdbdfdc81e2297f7fe",
       "placeholder": "​",
       "style": "IPY_MODEL_455f479fc86b4e329c062b93cddcd1c5",
       "value": " 2144/2144 [15:57&lt;00:00,  2.24it/s]"
      }
     },
     "fbaf20a411bb467784ea83a041b6b5be": {
      "model_module": "@jupyter-widgets/controls",
      "model_module_version": "1.5.0",
      "model_name": "HTMLModel",
      "state": {
       "_dom_classes": [],
       "_model_module": "@jupyter-widgets/controls",
       "_model_module_version": "1.5.0",
       "_model_name": "HTMLModel",
       "_view_count": null,
       "_view_module": "@jupyter-widgets/controls",
       "_view_module_version": "1.5.0",
       "_view_name": "HTMLView",
       "description": "",
       "description_tooltip": null,
       "layout": "IPY_MODEL_99fa0d26829a4907a71550fc34cd5040",
       "placeholder": "​",
       "style": "IPY_MODEL_6c4a78cc191f4614956d130a3a7a611e",
       "value": " 2144/2144 [15:55&lt;00:00,  2.24it/s]"
      }
     },
     "fd14697568d94adb9a52599eb4f97979": {
      "model_module": "@jupyter-widgets/controls",
      "model_module_version": "1.5.0",
      "model_name": "ProgressStyleModel",
      "state": {
       "_model_module": "@jupyter-widgets/controls",
       "_model_module_version": "1.5.0",
       "_model_name": "ProgressStyleModel",
       "_view_count": null,
       "_view_module": "@jupyter-widgets/base",
       "_view_module_version": "1.2.0",
       "_view_name": "StyleView",
       "bar_color": null,
       "description_width": "initial"
      }
     }
    },
    "version_major": 2,
    "version_minor": 0
   }
  }
 },
 "nbformat": 4,
 "nbformat_minor": 4
}